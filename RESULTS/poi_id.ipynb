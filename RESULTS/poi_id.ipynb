{
 "cells": [
  {
   "cell_type": "markdown",
   "metadata": {},
   "source": [
    "# Project 5: The Enron Dataset\n",
    "\n",
    "Robert Lee\n",
    "\n",
    "## The Data Set & Outliers\n",
    "There are 146 people in the Enron Dataset, 21 features each, 18 POI (persons of interest).\n",
    "A tossed out three data points as being unusual artifacts. I did not throw out outliers because they generally seemed to have useful information to identify POIs.\n",
    "\n",
    "## Feature Selection & Engineering\n",
    "I selected 7 features from the original dataset, and created 3 new ones. Looking at correlation to the POI label (from the correlation matrix below), it seems that my new features are not particularly useful for classification. And in fact, 3-5 of best (selectKbest) of the original 7 features seem to be good enough to do the job. If I were to spend more time on this project I would engineer additional features and determine what would be the smallest number of features that would yield good results. Since there was not a huge number of features, I did not do PCA.\n",
    "\n",
    "##  Training & Testing Classifiers\n",
    "As a starting point, I tried NB, DTC, KNN classifiers a few times using different test sizes. NB worked OK, DTC did not, KNN worked well. So I fcoused on KNN for in my grid search. I ran gridSearchCSV with 10, 5, 3, and 1 features with test sizes of 0.3 and 0.1. Of these 10 searches, 5 resulted in classifier 1 and 5 resulted in classifier 2. Classifier 1 had a better F1 score (0.45 vs. 0.37) so I called this my best classifier and wrote it to the pkl file.\n",
    "\n",
    "For reasons discussed here, it seems like it isn't a good idea to use a pipeline to search through a range of selectKbest features:\n",
    "https://discussions.udacity.com/t/selectkbest-pca-and-pipelines/22986/9\n",
    "\n",
    "I suppose I could have written a loop to try to the entire range, but I just picked 10, 5, 3, 1 features as stated above.\n",
    "\n",
    "gridSearchCSV()\n",
    "param_grid = {\"knn__n_neighbors\": [1, 3, 5, 8, 10, 12, 14],\n",
    "              \"knn__algorithm\": [\"auto\",\"ball_tree\", \"kd_tree\", \"brute\"],\n",
    "              \"knn__leaf_size\": range(3,10,1),\n",
    "              \"knn__p\": [1,2]\n",
    "             }\n",
    "             \n",
    "Classifier 1\n",
    "KNeighborsClassifier(algorithm='auto', leaf_size=3, metric='minkowski',\n",
    "           metric_params=None, n_jobs=1, n_neighbors=1, p=1,\n",
    "           weights='uniform')        \n",
    "F1 = 0.45\n",
    "\n",
    "Classifier 2\n",
    "KNeighborsClassifier(algorithm='auto', leaf_size=3, metric='minkowski',\n",
    "           metric_params=None, n_jobs=1, n_neighbors=1, p=1,\n",
    "           weights='uniform')        \n",
    "F1 = 0.37\n",
    "\n",
    "***\n",
    "\n",
    "I also ran AdaBoost using NB and DTC as the base classifiers (KNN is incompatible with AdaBoost). The resulting classifiers had lower F1 scores than Classifier 1, so I stuck with that one.\n",
    "\n",
    "DTC = DecisionTreeClassifier(random_state = 42, max_features = \"auto\", class_weight = \"balanced\",max_depth = None)\n",
    "ada = AdaBoostClassifier(base_estimator=DTC)\n",
    "\n",
    "param_grid = {\"ada__base_estimator__criterion\" : [\"gini\", \"entropy\"],\n",
    "              \"ada__base_estimator__splitter\" :   [\"best\", \"random\"],\n",
    "              \"ada__n_estimators\": [1, 10, 50, 100, 200]\n",
    "             }\n",
    "\n",
    "AdaBoostClassifier(algorithm='SAMME.R',\n",
    "          base_estimator=DecisionTreeClassifier(class_weight='balanced', criterion='entropy',\n",
    "            max_depth=None, max_features='auto', max_leaf_nodes=None,\n",
    "            min_impur...dom_state=42, splitter='random'),\n",
    "          learning_rate=1.0, n_estimators=10, random_state=None))])\n",
    "           {'ada__base_estimator__splitter': 'random',\n",
    "           'ada__n_estimators':10'ada__base_estimator__criterion': 'entropy'}\n",
    "F1 = 0.32\n",
    "\n",
    "***\n",
    "\n",
    "NB = GaussianNB()\n",
    "adaN = AdaBoostClassifier(base_estimator=NB)\n",
    "\n",
    "param_grid = {\n",
    "              \"ada__n_estimators\": [1, 10, 50, 100, 200]\n",
    "             }\n",
    "\n",
    "AdaBoostClassifier(algorithm='SAMME.R',\n",
    "          base_estimator=GaussianNB(priors=None), learning_rate=1.0,\n",
    "          n_estimators=1, random_state=None))])\n",
    "          {'ada__n_estimators': 1}\n",
    "          \n",
    "F1 = 0.25\n",
    "\n",
    "## Tuning & Validation\n",
    "\n",
    "By choosing different classifiers and trying parameters, it is possible to get a classifier that works really well (has very high scores) on the test data. This is called tuning, and is part of the art of machine learning. A classifier out of the box may not do a good job of correctly labeling data, but with paramter turning we can improve this.\n",
    "\n",
    "But if we try to optimize too much, we can be guilty of overfitting (overtuning). In fact we could manually create a classifier that perfectly fits the training data with an absurd amount of overfit. Because of possible idiosyncracies and outliers in the training data, it is important to consider possible overfitting.\n",
    "\n",
    "After fitting the classifier on training data, we test (or validate) it with test data before releasing it into the real world. It is a fairly easy thing, with overtuning, to create a classifier that works very well on the training data. But if we don't test the classifer on other data, we may have built a pretty, but useless, classifier. Among other things, outliers in the training data in can skew the classifier fit. Outliers in the testing data can skew the validations scores.\n",
    "\n",
    "Validation can be a bit tricky if there is a limited data, because we don't have much data to train on, much less allocate as between training and test data. This is definitely true of our data set, with only 143 people and 18 POIs). A large number of features relative to the number of data points can be a problem as well, though we can address this to some degree with PCA.\n",
    "\n",
    "Cross validation techniques help us avoid this, by radomly distributing and redistributing data between training and test, we can avoid classifier training problems such as overfitting.\n",
    "\n",
    "I used StratifiedShuffleSplit() with 100 splits. This means that there were 100 randomized train-test splits. The shuffling balances data between training and testing. It also randomzies data that might be ordered. I also could also have used .KFold, but the random shuffling of StratifiedShuffleSplit() is useful because of our small data set.\n",
    "\n",
    "Stratification is the process of distributing class labels relatively evenly between testing and training to prevent bias in either. StratifiedShuffleSplit() and StratifiedKFold() do this for us.\n",
    "\n",
    "## Precision & Recall\n",
    "Since the label is POI:\n",
    "\n",
    "precision = POI true positives / (POI true positives + POI false positives)\n",
    "\n",
    "recall = POI true positives / (POI true positives + POI false negatives)\n",
    "\n",
    "Thus if our classifier identified 10 POIs, with 5 true positives and 5 false positives, precision would be 0.5\n",
    "\n",
    "If the ground state truth was 12 POIs, where we correctly identified 5 but 7 were false negatives, our recall also would be 0.42\n",
    "\n",
    "F1 is a score that balances precision against recall\n",
    "F1 = 2 (precision * recall) / precision + recall\n",
    "\n",
    "In the above example F1 = 0.46\n",
    "\n",
    "Sometimes we don't want to balance them in this way, in that the consequences of a false positive vs false negative are asymmetric. We might want a higher precision at the expense of recall or vice versa."
   ]
  },
  {
   "cell_type": "code",
   "execution_count": 1,
   "metadata": {
    "collapsed": false
   },
   "outputs": [
    {
     "name": "stderr",
     "output_type": "stream",
     "text": [
      "/Users/robertlee/anaconda/envs/py2/lib/python2.7/site-packages/sklearn/cross_validation.py:44: DeprecationWarning: This module was deprecated in version 0.18 in favor of the model_selection module into which all the refactored classes and functions are moved. Also note that the interface of the new CV iterators are different from that of this module. This module will be removed in 0.20.\n",
      "  \"This module will be removed in 0.20.\", DeprecationWarning)\n",
      "/Users/robertlee/anaconda/envs/py2/lib/python2.7/site-packages/sklearn/grid_search.py:43: DeprecationWarning: This module was deprecated in version 0.18 in favor of the model_selection module into which all the refactored classes and functions are moved. This module will be removed in 0.20.\n",
      "  DeprecationWarning)\n"
     ]
    }
   ],
   "source": [
    "#!/usr/bin/python\n",
    "\n",
    "import sys\n",
    "import pickle\n",
    "\n",
    "import matplotlib.pyplot as plt\n",
    "\n",
    "from sklearn import preprocessing\n",
    "from sklearn import grid_search \n",
    "from time import time\n",
    "\n",
    "from sklearn import svm, cross_validation\n",
    "from sklearn.naive_bayes import GaussianNB\n",
    "from sklearn.tree import DecisionTreeClassifier\n",
    "from sklearn.metrics import accuracy_score, precision_score, recall_score, f1_score\n",
    "from sklearn.preprocessing import MinMaxScaler\n",
    "from sklearn.neighbors import KNeighborsClassifier\n",
    "from sklearn.model_selection import StratifiedShuffleSplit, GridSearchCV, train_test_split\n",
    "from sklearn.pipeline import Pipeline\n",
    "sys.path.append(\"../tools/\")\n",
    "\n",
    "from feature_format import featureFormat, targetFeatureSplit\n",
    "from tester import dump_classifier_and_data\n",
    "\n",
    "from sklearn.feature_selection import SelectKBest\n",
    "from sklearn.feature_selection import chi2\n",
    "\n",
    "from tester import test_classifier\n",
    "import numpy as np\n",
    "import pandas as pd\n",
    "\n",
    "from sklearn.ensemble import AdaBoostClassifier\n",
    "\n",
    "### Task 1: Select what features you'll use.\n",
    "### features_list is a list of strings, each of which is a feature name.\n",
    "### The first feature must be \"poi\".\n",
    "features_list = ['poi','salary','total_stock_value','exercised_stock_options','from_poi_to_this_person','from_this_person_to_poi','from_messages','to_messages','ratio_to_poi','ratio_from_poi','ratio_exercised']\n",
    "# You will need to use more features, 8 existing features, 3 new ones I created\n",
    "\n",
    "### Load the dictionary containing the dataset\n",
    "with open(\"final_project_dataset.pkl\", \"r\") as data_file:\n",
    "    data_dict = pickle.load(data_file)\n",
    "\n",
    "import pprint"
   ]
  },
  {
   "cell_type": "markdown",
   "metadata": {},
   "source": [
    "### Task 1: Select what features you'll use.\n",
    "### features_list is a list of strings, each of which is a feature name.\n",
    "### The first feature must be \"poi\".\n",
    "\n",
    "I use 8 existing features, and create 3 more (the last 3), combining them to create a list of 11 features. The first feature is the label, poi, so really there are just 10 features in play.\n",
    "\n",
    "features_old = ['poi','salary','total_stock_value','exercised_stock_options','from_poi_to_this_person','from_this_person_to_poi','from_messages','to_messages','ratio_to_poi','ratio_from_poi']\n",
    "\n",
    "features_new = ['ratio_to_poi','ratio_from_poi','ratio_exercised']\n",
    "\n",
    "features_list = features_old + features_new"
   ]
  },
  {
   "cell_type": "code",
   "execution_count": 2,
   "metadata": {
    "collapsed": false
   },
   "outputs": [
    {
     "data": {
      "text/plain": [
       "['poi',\n",
       " 'salary',\n",
       " 'total_stock_value',\n",
       " 'exercised_stock_options',\n",
       " 'from_poi_to_this_person',\n",
       " 'from_this_person_to_poi',\n",
       " 'from_messages',\n",
       " 'to_messages',\n",
       " 'ratio_to_poi',\n",
       " 'ratio_from_poi',\n",
       " 'ratio_exercised']"
      ]
     },
     "execution_count": 2,
     "metadata": {},
     "output_type": "execute_result"
    }
   ],
   "source": [
    "features_old = ['poi','salary','total_stock_value','exercised_stock_options','from_poi_to_this_person','from_this_person_to_poi','from_messages','to_messages']\n",
    "features_new = ['poi','ratio_to_poi','ratio_from_poi','ratio_exercised']\n",
    "features_list = features_old + features_new\n",
    "features_list.pop(8)\n",
    "features_list"
   ]
  },
  {
   "cell_type": "markdown",
   "metadata": {},
   "source": [
    "Here is one entry in the dictionary, key: 'ALLEN PHILLIP K'"
   ]
  },
  {
   "cell_type": "code",
   "execution_count": 3,
   "metadata": {
    "collapsed": false,
    "scrolled": true
   },
   "outputs": [
    {
     "name": "stdout",
     "output_type": "stream",
     "text": [
      "{'bonus': 4175000,\n",
      " 'deferral_payments': 2869717,\n",
      " 'deferred_income': -3081055,\n",
      " 'director_fees': 'NaN',\n",
      " 'email_address': 'phillip.allen@enron.com',\n",
      " 'exercised_stock_options': 1729541,\n",
      " 'expenses': 13868,\n",
      " 'from_messages': 2195,\n",
      " 'from_poi_to_this_person': 47,\n",
      " 'from_this_person_to_poi': 65,\n",
      " 'loan_advances': 'NaN',\n",
      " 'long_term_incentive': 304805,\n",
      " 'other': 152,\n",
      " 'poi': False,\n",
      " 'restricted_stock': 126027,\n",
      " 'restricted_stock_deferred': -126027,\n",
      " 'salary': 201955,\n",
      " 'shared_receipt_with_poi': 1407,\n",
      " 'to_messages': 2902,\n",
      " 'total_payments': 4484442,\n",
      " 'total_stock_value': 1729541}\n"
     ]
    }
   ],
   "source": [
    "pprint.pprint(data_dict['ALLEN PHILLIP K'])"
   ]
  },
  {
   "cell_type": "markdown",
   "metadata": {},
   "source": [
    "Length of dictionary (number of people) and length of one of the entries == # of features"
   ]
  },
  {
   "cell_type": "code",
   "execution_count": 4,
   "metadata": {
    "collapsed": false
   },
   "outputs": [
    {
     "name": "stdout",
     "output_type": "stream",
     "text": [
      "146\n",
      "21\n"
     ]
    }
   ],
   "source": [
    "print len(data_dict)\n",
    "print len(data_dict['ALLEN PHILLIP K'])"
   ]
  },
  {
   "cell_type": "markdown",
   "metadata": {},
   "source": [
    "### Task 2: Remove outliers\n",
    "\n",
    "Three of the \"people\" in the dictionary are not people, but bad data to be removed\n",
    "\n",
    "\"TOTAL\" appears to be a summary statistic.\n",
    "\"TRAVEL AGENCY IN THE PARK\" appears to be a contractor that was paid a sum of money.\n",
    "\"LOCKHART EUGENE E\" has all NaN values. Harmless, but I go ahead and remove it.\n",
    "\n",
    "I don't remove data outliers, because they are probably important data (the big shot executives making a lot of money and communicating a lot with each other)."
   ]
  },
  {
   "cell_type": "code",
   "execution_count": 5,
   "metadata": {
    "collapsed": false
   },
   "outputs": [
    {
     "name": "stdout",
     "output_type": "stream",
     "text": [
      "Three entries popped\n"
     ]
    },
    {
     "data": {
      "text/plain": [
       "144"
      ]
     },
     "execution_count": 5,
     "metadata": {},
     "output_type": "execute_result"
    }
   ],
   "source": [
    "data_dict.pop('TOTAL', 0)\n",
    "data_dict.pop('TRAVEL AGENCY IN THE PAR', 0)\n",
    "data_dict.pop('LOCKHART EUGENE E', 0)\n",
    "print \"Three entries popped\"\n",
    "len(data_dict)"
   ]
  },
  {
   "cell_type": "markdown",
   "metadata": {},
   "source": [
    "### I look for 'poi = TRUE to count the number of persons of interest"
   ]
  },
  {
   "cell_type": "code",
   "execution_count": 6,
   "metadata": {
    "collapsed": false
   },
   "outputs": [
    {
     "name": "stdout",
     "output_type": "stream",
     "text": [
      "18\n"
     ]
    }
   ],
   "source": [
    "n=0\n",
    "for each in data_dict:\n",
    "    if data_dict[each]['poi']:\n",
    "        n+=1\n",
    "print n"
   ]
  },
  {
   "cell_type": "markdown",
   "metadata": {},
   "source": [
    "### Task 3: Create new feature(s)\n",
    "The 3 new features I create are:\n",
    "ratio_exercised, ratio_to_poi, ratio_from_poi\n",
    "\n",
    "(1) ratio_exercised = exercised_stock_options / total_stock_value\n",
    "I created this feature to reflect how much stock the person exercised out of their total (from 0 to 1). I figured that people who were in on the scam might have exercised more of their options, knowing that it was a house of cards. On the other hand, a middle-class person who was not in on the scam might also exercise their options, given the high share price (honest desire to cash in).\n",
    "\n",
    "(2) ratio_to_poi = from_this_person_to_poi / to_messages\n",
    "Another 0 to 1 ratio. The absolute number of emails to a POI is less meaningful than the ratio of their messages to POI.\n",
    "\n",
    "(3) ratio_to_poi = from_poi_to_this_person / from_messages\n",
    "Another 0 to 1 ratio. The absolute number of emails from a POI is less meaningful than the ratio of messages from a POI.\n",
    "\n",
    "I am aware that there might be data leakage issues regarding from_this_person_to_poi and from_poi_to_this_person, and thus any features derived from them, but it is not abssolutely clear that this is the case, so I will accept that they are OK features to use for purposes of this assignment.\n",
    "\n",
    "I first eliminate NaN and bad values (any of numerator < 0, any denominator <= 0)"
   ]
  },
  {
   "cell_type": "code",
   "execution_count": 7,
   "metadata": {
    "collapsed": false
   },
   "outputs": [],
   "source": [
    "def new_feature(numerator,denominator):\n",
    "    new_feature=[]\n",
    "\n",
    "    for i in data_dict:\n",
    "        if data_dict[i][numerator]==\"NaN\" or data_dict[i][denominator]==\"NaN\":\n",
    "            new_feature.append(\"NaN\")\n",
    "        elif data_dict[i][numerator]<0 or data_dict[i][denominator]<=0:\n",
    "            new_feature.append(\"NaN\")\n",
    "        else:\n",
    "            new_feature.append(float(data_dict[i][numerator]) / data_dict[i][denominator])\n",
    "    return new_feature\n",
    "\n",
    "### create lists of new features\n",
    "ratio_exercised=new_feature(\"exercised_stock_options\",\"total_stock_value\")\n",
    "ratio_to_poi=new_feature(\"from_poi_to_this_person\",\"to_messages\")\n",
    "ratio_from_poi=new_feature(\"from_this_person_to_poi\",\"from_messages\")\n",
    "\n",
    "### insert new features into data_dict\n",
    "count=0\n",
    "for i in data_dict:\n",
    "    data_dict[i][\"ratio_exercised\"] = ratio_exercised[count]\n",
    "    data_dict[i][\"ratio_to_poi\"] = ratio_to_poi[count]\n",
    "    data_dict[i][\"ratio_from_poi\"] = ratio_from_poi[count]\n",
    "    count +=1\n",
    "\n",
    "### store to my_dataset for easy export below\n",
    "my_dataset = data_dict"
   ]
  },
  {
   "cell_type": "markdown",
   "metadata": {},
   "source": [
    "### Extract features and labels from dataset for local testing\n",
    "data = featureFormat(my_dataset, features_list, sort_keys = True)\n",
    "\n",
    "labels, features = targetFeatureSplit(data)"
   ]
  },
  {
   "cell_type": "code",
   "execution_count": 8,
   "metadata": {
    "collapsed": true
   },
   "outputs": [],
   "source": [
    "data = featureFormat(my_dataset, features_list, sort_keys = True)\n",
    "\n",
    "labels, features = targetFeatureSplit(data)"
   ]
  },
  {
   "cell_type": "markdown",
   "metadata": {},
   "source": [
    "# Plot new features to get a feel for them\n",
    "## ratio_exercised\n",
    "\n",
    "Ratio of stock options exercised is betwen 0 (none exercised) up to about 20%"
   ]
  },
  {
   "cell_type": "code",
   "execution_count": 9,
   "metadata": {
    "collapsed": false
   },
   "outputs": [
    {
     "data": {
      "image/png": "[encoded data removed]",
      "text/plain": [
       "<matplotlib.figure.Figure at 0x11b9c9bd0>"
      ]
     },
     "metadata": {},
     "output_type": "display_data"
    }
   ],
   "source": [
    "n=0\n",
    "for point in data:\n",
    "    ratio_exercised = point[8]\n",
    "    plt.scatter( n, ratio_exercised )\n",
    "    n+=1\n",
    "plt.xlabel(\"ratio exercised\")\n",
    "plt.show()"
   ]
  },
  {
   "cell_type": "markdown",
   "metadata": {},
   "source": [
    "## ratio_to_poi\n",
    "\n",
    "Ratio of all emails sent to POI\n",
    "\n",
    "Between 0 and 1.0.\n",
    "\n",
    "The one 1.0 data point is suspiciously high, so I print one that point above the plot. This person was not a PIO, had a salary of 130K, had significant stock, sent 10 emails to POI, received 17 emails from POI, sent 17 total emails, and received 128 total emails. So this data point does not seem outlanding. In addition, since this feature is not in my top 5 best (see below), I am not too concerned with this 1.0 value."
   ]
  },
  {
   "cell_type": "code",
   "execution_count": 10,
   "metadata": {
    "collapsed": false
   },
   "outputs": [
    {
     "name": "stdout",
     "output_type": "stream",
     "text": [
      "[  0.00000000e+00   1.30724000e+05   2.28276800e+06   2.28276800e+06\n",
      "   1.00000000e+01   1.70000000e+01   1.70000000e+01   1.28000000e+02\n",
      "   7.81250000e-02   1.00000000e+00   1.00000000e+00]\n"
     ]
    },
    {
     "data": {
      "image/png": "[encoded data removed]",
      "text/plain": [
       "<matplotlib.figure.Figure at 0x11f0b6ad0>"
      ]
     },
     "metadata": {},
     "output_type": "display_data"
    }
   ],
   "source": [
    "n=0\n",
    "for point in data:\n",
    "    ratio_to_poi  = point[9]\n",
    "    if ratio_to_poi == 1.0:\n",
    "        print point\n",
    "    plt.scatter( n, ratio_to_poi )\n",
    "    n+=1\n",
    "plt.xlabel(\"ratio of all emails sent to POI\")\n",
    "plt.show()"
   ]
  },
  {
   "cell_type": "markdown",
   "metadata": {},
   "source": [
    "## ratio_from_poi\n",
    "\n",
    "Ratio of all emails from POI\n",
    "\n",
    "Between 0 and 1.0.\n",
    "\n",
    "There are a lot of 1.0 data points. So either the data is generally pretty bad, or else these 1.0 values are valid. I'll go with the latter assumption, though of course I could investigate more."
   ]
  },
  {
   "cell_type": "code",
   "execution_count": 11,
   "metadata": {
    "collapsed": false
   },
   "outputs": [
    {
     "data": {
      "image/png": "[encoded data removed]",
      "text/plain": [
       "<matplotlib.figure.Figure at 0x11f0b6310>"
      ]
     },
     "metadata": {},
     "output_type": "display_data"
    }
   ],
   "source": [
    "n=0\n",
    "for point in data:\n",
    "    ratio_from_poi  = point[10]\n",
    "    plt.scatter( n, ratio_from_poi )\n",
    "    n+=1\n",
    "plt.xlabel(\"ratio of all from POI\")\n",
    "plt.show()"
   ]
  },
  {
   "cell_type": "markdown",
   "metadata": {},
   "source": [
    "## I print a correlation matrix to get a sense of feature correlation with the labels (row/column 0)\n",
    "\n",
    "Of the 3 new features, 8,9,10, only 9, ratio_from_poi has a fairly strong correlation, 0.31. Thus one could argue that is the only new feature worth looking at. But for sake of academic exercise, rather than trying to engineer additional new features, I'll continue with these.\n",
    "\n",
    "Of the original 7 features, 1,2,3 all have correlations to the label above 0.3. These are the 3 best features, and 9, above, is the forth best. None of the other features are even close in terms of correlation. Thus one could argue that we should only use these 3 or 4 features.\n",
    "\n",
    "Not surprisingly, the first three features, all related to money, are highly correlated to each other with 2 and 3 being correlated at 0.96. Thus 2 and 3 in particular would be amendable to PCA to reduce the number of features. For the scope of this project, though, PCA didn't seem necessary, as we are already working with a small number of features, so I did not do PCA.\n",
    "\n",
    "1 salary\n",
    "2 total_stock_value\n",
    "3 exercised_stock_options\n",
    "9 ratio_from_poi"
   ]
  },
  {
   "cell_type": "code",
   "execution_count": 12,
   "metadata": {
    "collapsed": false
   },
   "outputs": [
    {
     "name": "stdout",
     "output_type": "stream",
     "text": [
      "0 poi\n",
      "1 salary\n",
      "2 total_stock_value\n",
      "3 exercised_stock_options\n",
      "4 from_poi_to_this_person\n",
      "5 from_this_person_to_poi\n",
      "6 from_messages\n",
      "7 to_messages\n",
      "8 ratio_to_poi\n",
      "9 ratio_from_poi\n",
      "10 ratio_exercised\n"
     ]
    },
    {
     "data": {
      "text/html": [
       "<div>\n",
       "<table border=\"1\" class=\"dataframe\">\n",
       "  <thead>\n",
       "    <tr style=\"text-align: right;\">\n",
       "      <th></th>\n",
       "      <th>0</th>\n",
       "      <th>1</th>\n",
       "      <th>2</th>\n",
       "      <th>3</th>\n",
       "      <th>4</th>\n",
       "      <th>5</th>\n",
       "      <th>6</th>\n",
       "      <th>7</th>\n",
       "      <th>8</th>\n",
       "      <th>9</th>\n",
       "      <th>10</th>\n",
       "    </tr>\n",
       "  </thead>\n",
       "  <tbody>\n",
       "    <tr>\n",
       "      <th>0</th>\n",
       "      <td>1.000000</td>\n",
       "      <td>0.323062</td>\n",
       "      <td>0.373375</td>\n",
       "      <td>0.378329</td>\n",
       "      <td>0.175804</td>\n",
       "      <td>0.120282</td>\n",
       "      <td>-0.043027</td>\n",
       "      <td>0.091524</td>\n",
       "      <td>0.130400</td>\n",
       "      <td>0.310498</td>\n",
       "      <td>-0.063065</td>\n",
       "    </tr>\n",
       "    <tr>\n",
       "      <th>1</th>\n",
       "      <td>0.323062</td>\n",
       "      <td>1.000000</td>\n",
       "      <td>0.507512</td>\n",
       "      <td>0.434179</td>\n",
       "      <td>0.382845</td>\n",
       "      <td>0.188981</td>\n",
       "      <td>0.128107</td>\n",
       "      <td>0.369150</td>\n",
       "      <td>0.214900</td>\n",
       "      <td>0.271439</td>\n",
       "      <td>-0.020504</td>\n",
       "    </tr>\n",
       "    <tr>\n",
       "      <th>2</th>\n",
       "      <td>0.373375</td>\n",
       "      <td>0.507512</td>\n",
       "      <td>1.000000</td>\n",
       "      <td>0.963300</td>\n",
       "      <td>0.118218</td>\n",
       "      <td>0.008916</td>\n",
       "      <td>-0.022347</td>\n",
       "      <td>0.097094</td>\n",
       "      <td>-0.008048</td>\n",
       "      <td>0.101619</td>\n",
       "      <td>0.212430</td>\n",
       "    </tr>\n",
       "    <tr>\n",
       "      <th>3</th>\n",
       "      <td>0.378329</td>\n",
       "      <td>0.434179</td>\n",
       "      <td>0.963300</td>\n",
       "      <td>1.000000</td>\n",
       "      <td>0.107552</td>\n",
       "      <td>-0.009687</td>\n",
       "      <td>-0.033640</td>\n",
       "      <td>0.065464</td>\n",
       "      <td>-0.000078</td>\n",
       "      <td>0.088343</td>\n",
       "      <td>0.290629</td>\n",
       "    </tr>\n",
       "    <tr>\n",
       "      <th>4</th>\n",
       "      <td>0.175804</td>\n",
       "      <td>0.382845</td>\n",
       "      <td>0.118218</td>\n",
       "      <td>0.107552</td>\n",
       "      <td>1.000000</td>\n",
       "      <td>0.491520</td>\n",
       "      <td>0.245550</td>\n",
       "      <td>0.608153</td>\n",
       "      <td>0.571588</td>\n",
       "      <td>0.237443</td>\n",
       "      <td>0.006517</td>\n",
       "    </tr>\n",
       "    <tr>\n",
       "      <th>5</th>\n",
       "      <td>0.120282</td>\n",
       "      <td>0.188981</td>\n",
       "      <td>0.008916</td>\n",
       "      <td>-0.009687</td>\n",
       "      <td>0.491520</td>\n",
       "      <td>1.000000</td>\n",
       "      <td>0.606896</td>\n",
       "      <td>0.600738</td>\n",
       "      <td>0.070609</td>\n",
       "      <td>0.069135</td>\n",
       "      <td>-0.007351</td>\n",
       "    </tr>\n",
       "    <tr>\n",
       "      <th>6</th>\n",
       "      <td>-0.043027</td>\n",
       "      <td>0.128107</td>\n",
       "      <td>-0.022347</td>\n",
       "      <td>-0.033640</td>\n",
       "      <td>0.245550</td>\n",
       "      <td>0.606896</td>\n",
       "      <td>1.000000</td>\n",
       "      <td>0.504045</td>\n",
       "      <td>-0.018426</td>\n",
       "      <td>-0.072205</td>\n",
       "      <td>0.047233</td>\n",
       "    </tr>\n",
       "    <tr>\n",
       "      <th>7</th>\n",
       "      <td>0.091524</td>\n",
       "      <td>0.369150</td>\n",
       "      <td>0.097094</td>\n",
       "      <td>0.065464</td>\n",
       "      <td>0.608153</td>\n",
       "      <td>0.600738</td>\n",
       "      <td>0.504045</td>\n",
       "      <td>1.000000</td>\n",
       "      <td>0.103680</td>\n",
       "      <td>0.096925</td>\n",
       "      <td>-0.013960</td>\n",
       "    </tr>\n",
       "    <tr>\n",
       "      <th>8</th>\n",
       "      <td>0.130400</td>\n",
       "      <td>0.214900</td>\n",
       "      <td>-0.008048</td>\n",
       "      <td>-0.000078</td>\n",
       "      <td>0.571588</td>\n",
       "      <td>0.070609</td>\n",
       "      <td>-0.018426</td>\n",
       "      <td>0.103680</td>\n",
       "      <td>1.000000</td>\n",
       "      <td>0.470755</td>\n",
       "      <td>-0.052790</td>\n",
       "    </tr>\n",
       "    <tr>\n",
       "      <th>9</th>\n",
       "      <td>0.310498</td>\n",
       "      <td>0.271439</td>\n",
       "      <td>0.101619</td>\n",
       "      <td>0.088343</td>\n",
       "      <td>0.237443</td>\n",
       "      <td>0.069135</td>\n",
       "      <td>-0.072205</td>\n",
       "      <td>0.096925</td>\n",
       "      <td>0.470755</td>\n",
       "      <td>1.000000</td>\n",
       "      <td>0.005317</td>\n",
       "    </tr>\n",
       "    <tr>\n",
       "      <th>10</th>\n",
       "      <td>-0.063065</td>\n",
       "      <td>-0.020504</td>\n",
       "      <td>0.212430</td>\n",
       "      <td>0.290629</td>\n",
       "      <td>0.006517</td>\n",
       "      <td>-0.007351</td>\n",
       "      <td>0.047233</td>\n",
       "      <td>-0.013960</td>\n",
       "      <td>-0.052790</td>\n",
       "      <td>0.005317</td>\n",
       "      <td>1.000000</td>\n",
       "    </tr>\n",
       "  </tbody>\n",
       "</table>\n",
       "</div>"
      ],
      "text/plain": [
       "          0         1         2         3         4         5         6   \\\n",
       "0   1.000000  0.323062  0.373375  0.378329  0.175804  0.120282 -0.043027   \n",
       "1   0.323062  1.000000  0.507512  0.434179  0.382845  0.188981  0.128107   \n",
       "2   0.373375  0.507512  1.000000  0.963300  0.118218  0.008916 -0.022347   \n",
       "3   0.378329  0.434179  0.963300  1.000000  0.107552 -0.009687 -0.033640   \n",
       "4   0.175804  0.382845  0.118218  0.107552  1.000000  0.491520  0.245550   \n",
       "5   0.120282  0.188981  0.008916 -0.009687  0.491520  1.000000  0.606896   \n",
       "6  -0.043027  0.128107 -0.022347 -0.033640  0.245550  0.606896  1.000000   \n",
       "7   0.091524  0.369150  0.097094  0.065464  0.608153  0.600738  0.504045   \n",
       "8   0.130400  0.214900 -0.008048 -0.000078  0.571588  0.070609 -0.018426   \n",
       "9   0.310498  0.271439  0.101619  0.088343  0.237443  0.069135 -0.072205   \n",
       "10 -0.063065 -0.020504  0.212430  0.290629  0.006517 -0.007351  0.047233   \n",
       "\n",
       "          7         8         9         10  \n",
       "0   0.091524  0.130400  0.310498 -0.063065  \n",
       "1   0.369150  0.214900  0.271439 -0.020504  \n",
       "2   0.097094 -0.008048  0.101619  0.212430  \n",
       "3   0.065464 -0.000078  0.088343  0.290629  \n",
       "4   0.608153  0.571588  0.237443  0.006517  \n",
       "5   0.600738  0.070609  0.069135 -0.007351  \n",
       "6   0.504045 -0.018426 -0.072205  0.047233  \n",
       "7   1.000000  0.103680  0.096925 -0.013960  \n",
       "8   0.103680  1.000000  0.470755 -0.052790  \n",
       "9   0.096925  0.470755  1.000000  0.005317  \n",
       "10 -0.013960 -0.052790  0.005317  1.000000  "
      ]
     },
     "execution_count": 12,
     "metadata": {},
     "output_type": "execute_result"
    }
   ],
   "source": [
    "n=0\n",
    "for feature in features_list:\n",
    "    print n,feature\n",
    "    n+=1\n",
    "    \n",
    "df = pd.DataFrame(data)\n",
    "df.corr()\n",
    "#for each in np.corrcoef(data):\n",
    " #   print each"
   ]
  },
  {
   "cell_type": "markdown",
   "metadata": {},
   "source": [
    "# Trying out a few classifiers\n",
    "Rather than use systematic cross-validation and classifier search with gridSearchCSV, for now I simply try some classifiers on three sizes, just to get a feel: 0.1, 0.3, 0.5\n",
    "\n",
    "features_train, features_test, labels_train, labels_test = cross_validation.train_test_split(features, labels, test_size=X, random_state=42)\n",
    "\n",
    "Since there are only 18 POIs, we can only go so small with the test size before we don't get any POIs. 0.1 is probably about the smallest we can use."
   ]
  },
  {
   "cell_type": "code",
   "execution_count": 13,
   "metadata": {
    "collapsed": false
   },
   "outputs": [],
   "source": [
    "features_train1, features_test1, labels_train1, labels_test1 = cross_validation.train_test_split(features, labels, test_size=0.1, random_state=42)\n",
    "features_train3, features_test3, labels_train3, labels_test3 = cross_validation.train_test_split(features, labels, test_size=0.3, random_state=42)\n",
    "features_train5, features_test5, labels_train5, labels_test5 = cross_validation.train_test_split(features, labels, test_size=0.5, random_state=42)"
   ]
  },
  {
   "cell_type": "markdown",
   "metadata": {},
   "source": [
    "# Trying NB with the above features and test sizes"
   ]
  },
  {
   "cell_type": "code",
   "execution_count": 14,
   "metadata": {
    "collapsed": false
   },
   "outputs": [],
   "source": [
    "def classify_NB(features_train, labels_train):\n",
    "    \n",
    "    ### your code goes here--should return a trained decision tree classifer\n",
    "    \n",
    "    clf = GaussianNB()\n",
    "    clf.fit(features_train, labels_train)\n",
    "    return clf\n",
    "\n",
    "def class_run(features_train, labels_train, features_test, labels_test):\n",
    "    clf = classify_NB(features_train, labels_train)\n",
    "    pred = clf.predict(features_test)\n",
    "    return {\"Accuracy\":accuracy_score(pred,labels_test),\\\n",
    "                          \"Precision\":precision_score(pred,labels_test),\\\n",
    "                          \"Recall\":recall_score(pred,labels_test),\\\n",
    "                          \"F1\":f1_score(pred,labels_test)}"
   ]
  },
  {
   "cell_type": "code",
   "execution_count": 15,
   "metadata": {
    "collapsed": false,
    "scrolled": true
   },
   "outputs": [
    {
     "name": "stdout",
     "output_type": "stream",
     "text": [
      "all 10 features (plus poi label)\n",
      "NB: 0.1 test size\n",
      "Recall  :  0.5\n",
      "F1  :  0.4\n",
      "Precision  :  0.333333333333\n",
      "Accuracy  :  0.785714285714\n",
      "\n",
      "NB: 0.3 test size\n",
      "Recall  :  0.75\n",
      "F1  :  0.6\n",
      "Precision  :  0.5\n",
      "Accuracy  :  0.9\n",
      "\n",
      "NB: 0.5 test size\n",
      "Recall  :  0.333333333333\n",
      "F1  :  0.4\n",
      "Precision  :  0.5\n",
      "Accuracy  :  0.863636363636\n",
      "\n"
     ]
    }
   ],
   "source": [
    "print \"all 10 features (plus poi label)\"\n",
    "def print_it(title,input):\n",
    "    print title\n",
    "    answer = input\n",
    "    for each in answer:\n",
    "        print each,\" : \",answer[each]\n",
    "    print\n",
    "\n",
    "print_it(\"NB: 0.1 test size\",class_run(features_train1, labels_train1, features_test1, labels_test1))\n",
    "print_it(\"NB: 0.3 test size\",class_run(features_train3, labels_train3, features_test3, labels_test3))\n",
    "print_it(\"NB: 0.5 test size\",class_run(features_train5, labels_train5, features_test5, labels_test5))"
   ]
  },
  {
   "cell_type": "markdown",
   "metadata": {},
   "source": [
    "# Trying NB with different subsets of the features\n",
    "\n",
    "features_list contains all 11 features (8 original, 3 new)\n",
    "\n",
    "I create these subset feature lists as well\n",
    "\n",
    "Each must contain the first feature, poi\n",
    "\n",
    "features_old = poi + the original 7\n",
    "\n",
    "features_new = poi + the 3 new ones\n",
    "\n",
    "features_first = poi + 1,2,3   ($ related)\n",
    "\n",
    "features_second = poi + 4,5,6,7 (email related)\n",
    "\n",
    "features_F = features_first + 'ratio_exercised' ($ related)\n",
    "\n",
    "features_E = features_second + ratio_to_poi' + 'ratio_from_poi' (email related)"
   ]
  },
  {
   "cell_type": "code",
   "execution_count": 16,
   "metadata": {
    "collapsed": true
   },
   "outputs": [],
   "source": [
    "features_first = ['poi','salary','total_stock_value','exercised_stock_options']\n",
    "features_second = ['poi','from_poi_to_this_person','from_this_person_to_poi','from_messages','to_messages','ratio_to_poi','ratio_from_poi','ratio_exercised']\n",
    "features_F = ['poi','salary','total_stock_value','exercised_stock_options','ratio_exercised']\n",
    "features_E = ['poi','from_poi_to_this_person','from_this_person_to_poi','from_messages','to_messages','ratio_to_poi','ratio_from_poi']"
   ]
  },
  {
   "cell_type": "markdown",
   "metadata": {},
   "source": [
    "## Using the original 7 features yields the same results as using all 10 features"
   ]
  },
  {
   "cell_type": "code",
   "execution_count": 17,
   "metadata": {
    "collapsed": false
   },
   "outputs": [
    {
     "name": "stdout",
     "output_type": "stream",
     "text": [
      "features_old = the original 7\n",
      "\n",
      "NB: 0.1 test size\n",
      "Recall  :  0.5\n",
      "F1  :  0.4\n",
      "Precision  :  0.333333333333\n",
      "Accuracy  :  0.785714285714\n",
      "\n",
      "NB: 0.3 test size\n",
      "Recall  :  0.75\n",
      "F1  :  0.6\n",
      "Precision  :  0.5\n",
      "Accuracy  :  0.9\n",
      "\n",
      "NB: 0.5 test size\n",
      "Recall  :  0.333333333333\n",
      "F1  :  0.4\n",
      "Precision  :  0.5\n",
      "Accuracy  :  0.863636363636\n",
      "\n"
     ]
    }
   ],
   "source": [
    "data = featureFormat(my_dataset, features_old, sort_keys = True)\n",
    "\n",
    "labels, features_o = targetFeatureSplit(data)\n",
    "features_train1o, features_test1o, labels_train1o, labels_test1o = cross_validation.train_test_split(features_o, labels, test_size=0.1, random_state=42)\n",
    "features_train3o, features_test3o, labels_train3o, labels_test3o = cross_validation.train_test_split(features_o, labels, test_size=0.3, random_state=42)\n",
    "features_train5o, features_test5o, labels_train5o, labels_test5o = cross_validation.train_test_split(features_o, labels, test_size=0.5, random_state=42)\n",
    "\n",
    "print \"features_old = the original 7\"\n",
    "print\n",
    "print_it(\"NB: 0.1 test size\",class_run(features_train1o, labels_train1o, features_test1o, labels_test1o))\n",
    "print_it(\"NB: 0.3 test size\",class_run(features_train3o, labels_train3o, features_test3o, labels_test3o))\n",
    "print_it(\"NB: 0.5 test size\",class_run(features_train5o, labels_train5o, features_test5o, labels_test5o))"
   ]
  },
  {
   "cell_type": "markdown",
   "metadata": {},
   "source": [
    "## Using just the 3 new features doesn't work as well"
   ]
  },
  {
   "cell_type": "code",
   "execution_count": 18,
   "metadata": {
    "collapsed": false
   },
   "outputs": [
    {
     "name": "stdout",
     "output_type": "stream",
     "text": [
      "features_new = poi + 3 new features\n",
      "\n"
     ]
    },
    {
     "name": "stderr",
     "output_type": "stream",
     "text": [
      "/Users/robertlee/anaconda/envs/py2/lib/python2.7/site-packages/sklearn/metrics/classification.py:1115: UndefinedMetricWarning: Recall is ill-defined and being set to 0.0 due to no true samples.\n",
      "  'recall', 'true', average, warn_for)\n",
      "/Users/robertlee/anaconda/envs/py2/lib/python2.7/site-packages/sklearn/metrics/classification.py:1115: UndefinedMetricWarning: F-score is ill-defined and being set to 0.0 due to no true samples.\n",
      "  'recall', 'true', average, warn_for)\n"
     ]
    },
    {
     "name": "stdout",
     "output_type": "stream",
     "text": [
      "NB: 0.1 test size\n",
      "Recall  :  0.0\n",
      "F1  :  0.0\n",
      "Precision  :  0.0\n",
      "Accuracy  :  0.833333333333\n",
      "\n",
      "NB: 0.3 test size\n",
      "Recall  :  0.333333333333\n",
      "F1  :  0.25\n",
      "Precision  :  0.2\n",
      "Accuracy  :  0.833333333333\n",
      "\n",
      "NB: 0.5 test size\n",
      "Recall  :  0.0\n",
      "F1  :  0.0\n",
      "Precision  :  0.0\n",
      "Accuracy  :  0.830508474576\n",
      "\n"
     ]
    }
   ],
   "source": [
    "data_n = featureFormat(my_dataset, features_new, sort_keys = True)\n",
    "labels, features_n = targetFeatureSplit(data_n)\n",
    "features_train1n, features_test1n, labels_train1n, labels_test1n = cross_validation.train_test_split(features_n, labels, test_size=0.1, random_state=42)\n",
    "features_train3n, features_test3n, labels_train3n, labels_test3n = cross_validation.train_test_split(features_n, labels, test_size=0.3, random_state=42)\n",
    "features_train5n, features_test5n, labels_train5n, labels_test5n = cross_validation.train_test_split(features_n, labels, test_size=0.5, random_state=42)\n",
    "\n",
    "print \"features_new = poi + 3 new features\"\n",
    "print\n",
    "print_it(\"NB: 0.1 test size\",class_run(features_train1n, labels_train1n, features_test1n, labels_test1n))\n",
    "print_it(\"NB: 0.3 test size\",class_run(features_train3n, labels_train3n, features_test3n, labels_test3n))\n",
    "print_it(\"NB: 0.5 test size\",class_run(features_train5n, labels_train5n, features_test5n, labels_test5n))"
   ]
  },
  {
   "cell_type": "markdown",
   "metadata": {},
   "source": [
    "## Neither does using just money related features"
   ]
  },
  {
   "cell_type": "code",
   "execution_count": 19,
   "metadata": {
    "collapsed": false
   },
   "outputs": [
    {
     "name": "stdout",
     "output_type": "stream",
     "text": [
      "features_first = poi + 1,2,3   ($ related)\n",
      "\n",
      "NB: 0.1 test size\n",
      "Recall  :  0.0\n",
      "F1  :  0.0\n",
      "Precision  :  0.0\n",
      "Accuracy  :  0.846153846154\n",
      "\n",
      "NB: 0.3 test size\n",
      "Recall  :  0.0\n",
      "F1  :  0.0\n",
      "Precision  :  0.0\n",
      "Accuracy  :  0.871794871795\n",
      "\n",
      "NB: 0.5 test size\n",
      "Recall  :  0.25\n",
      "F1  :  0.181818181818\n",
      "Precision  :  0.142857142857\n",
      "Accuracy  :  0.861538461538\n",
      "\n"
     ]
    }
   ],
   "source": [
    "data_f = featureFormat(my_dataset, features_first, sort_keys = True)\n",
    "labels, features_f = targetFeatureSplit(data_f)\n",
    "features_train1f, features_test1f, labels_train1f, labels_test1f = cross_validation.train_test_split(features_f, labels, test_size=0.1, random_state=42)\n",
    "features_train3f, features_test3f, labels_train3f, labels_test3f = cross_validation.train_test_split(features_f, labels, test_size=0.3, random_state=42)\n",
    "features_train5f, features_test5f, labels_train5f, labels_test5f = cross_validation.train_test_split(features_f, labels, test_size=0.5, random_state=42)\n",
    "\n",
    "print \"features_first = poi + 1,2,3   ($ related)\"\n",
    "print\n",
    "print_it(\"NB: 0.1 test size\",class_run(features_train1f, labels_train1f, features_test1f, labels_test1f))\n",
    "print_it(\"NB: 0.3 test size\",class_run(features_train3f, labels_train3f, features_test3f, labels_test3f))\n",
    "print_it(\"NB: 0.5 test size\",class_run(features_train5f, labels_train5f, features_test5f, labels_test5f))"
   ]
  },
  {
   "cell_type": "markdown",
   "metadata": {},
   "source": [
    "## Nor just email"
   ]
  },
  {
   "cell_type": "code",
   "execution_count": 20,
   "metadata": {
    "collapsed": false
   },
   "outputs": [
    {
     "name": "stdout",
     "output_type": "stream",
     "text": [
      "poi + 4,5,6,7 (email related)\n",
      "\n",
      "NB: 0.1 test size\n",
      "Recall  :  0.0\n",
      "F1  :  0.0\n",
      "Precision  :  0.0\n",
      "Accuracy  :  0.833333333333\n",
      "\n",
      "NB: 0.3 test size\n",
      "Recall  :  0.272727272727\n",
      "F1  :  0.352941176471\n",
      "Precision  :  0.5\n",
      "Accuracy  :  0.694444444444\n",
      "\n",
      "NB: 0.5 test size\n",
      "Recall  :  0.5\n",
      "F1  :  0.444444444444\n",
      "Precision  :  0.4\n",
      "Accuracy  :  0.833333333333\n",
      "\n"
     ]
    }
   ],
   "source": [
    "data_s = featureFormat(my_dataset, features_second, sort_keys = True)\n",
    "labels, features_s = targetFeatureSplit(data_s)\n",
    "features_train1s, features_test1s, labels_train1s, labels_test1s = cross_validation.train_test_split(features_s, labels, test_size=0.1, random_state=42)\n",
    "features_train3s, features_test3s, labels_train3s, labels_test3s = cross_validation.train_test_split(features_s, labels, test_size=0.3, random_state=42)\n",
    "features_train5s, features_test5s, labels_train5s, labels_test5s = cross_validation.train_test_split(features_s, labels, test_size=0.5, random_state=42)\n",
    "\n",
    "print \"poi + 4,5,6,7 (email related)\"\n",
    "print\n",
    "print_it(\"NB: 0.1 test size\",class_run(features_train1s, labels_train1s, features_test1s, labels_test1s))\n",
    "print_it(\"NB: 0.3 test size\",class_run(features_train3s, labels_train3s, features_test3s, labels_test3s))\n",
    "print_it(\"NB: 0.5 test size\",class_run(features_train5s, labels_train5s, features_test5s, labels_test5s))"
   ]
  },
  {
   "cell_type": "markdown",
   "metadata": {},
   "source": [
    "## Now I'll run SelectKBest on k=1 through k=9"
   ]
  },
  {
   "cell_type": "code",
   "execution_count": 21,
   "metadata": {
    "collapsed": false
   },
   "outputs": [
    {
     "name": "stdout",
     "output_type": "stream",
     "text": [
      "SelectKBest() best features, k = 9\n",
      "\n",
      "NB: 0.1 test size\n",
      "Recall  :  0.5\n",
      "F1  :  0.4\n",
      "Precision  :  0.333333333333\n",
      "Accuracy  :  0.785714285714\n",
      "\n",
      "NB: 0.3 test size\n",
      "Recall  :  0.75\n",
      "F1  :  0.6\n",
      "Precision  :  0.5\n",
      "Accuracy  :  0.9\n",
      "\n",
      "NB: 0.5 test size\n",
      "Recall  :  0.5\n",
      "F1  :  0.5\n",
      "Precision  :  0.5\n",
      "Accuracy  :  0.909090909091\n",
      "\n",
      "SelectKBest() best features, k = 8\n",
      "\n",
      "NB: 0.1 test size\n",
      "Recall  :  0.5\n",
      "F1  :  0.4\n",
      "Precision  :  0.333333333333\n",
      "Accuracy  :  0.785714285714\n",
      "\n",
      "NB: 0.3 test size\n",
      "Recall  :  0.75\n",
      "F1  :  0.6\n",
      "Precision  :  0.5\n",
      "Accuracy  :  0.9\n",
      "\n",
      "NB: 0.5 test size\n",
      "Recall  :  0.5\n",
      "F1  :  0.5\n",
      "Precision  :  0.5\n",
      "Accuracy  :  0.909090909091\n",
      "\n",
      "SelectKBest() best features, k = 7\n",
      "\n",
      "NB: 0.1 test size\n",
      "Recall  :  0.5\n",
      "F1  :  0.4\n",
      "Precision  :  0.333333333333\n",
      "Accuracy  :  0.785714285714\n",
      "\n",
      "NB: 0.3 test size\n",
      "Recall  :  0.75\n",
      "F1  :  0.6\n",
      "Precision  :  0.5\n",
      "Accuracy  :  0.9\n",
      "\n",
      "NB: 0.5 test size\n",
      "Recall  :  0.428571428571\n",
      "F1  :  0.461538461538\n",
      "Precision  :  0.5\n",
      "Accuracy  :  0.893939393939\n",
      "\n",
      "SelectKBest() best features, k = 6\n",
      "\n",
      "NB: 0.1 test size\n",
      "Recall  :  0.5\n",
      "F1  :  0.4\n",
      "Precision  :  0.333333333333\n",
      "Accuracy  :  0.785714285714\n",
      "\n",
      "NB: 0.3 test size\n",
      "Recall  :  0.75\n",
      "F1  :  0.6\n",
      "Precision  :  0.5\n",
      "Accuracy  :  0.9\n",
      "\n",
      "NB: 0.5 test size\n",
      "Recall  :  0.5\n",
      "F1  :  0.5\n",
      "Precision  :  0.5\n",
      "Accuracy  :  0.909090909091\n",
      "\n",
      "SelectKBest() best features, k = 5\n",
      "\n",
      "NB: 0.1 test size\n",
      "Recall  :  0.5\n",
      "F1  :  0.4\n",
      "Precision  :  0.333333333333\n",
      "Accuracy  :  0.785714285714\n",
      "\n",
      "NB: 0.3 test size\n",
      "Recall  :  0.75\n",
      "F1  :  0.6\n",
      "Precision  :  0.5\n",
      "Accuracy  :  0.9\n",
      "\n",
      "NB: 0.5 test size\n",
      "Recall  :  0.5\n",
      "F1  :  0.5\n",
      "Precision  :  0.5\n",
      "Accuracy  :  0.909090909091\n",
      "\n",
      "SelectKBest() best features, k = 4\n",
      "\n",
      "NB: 0.1 test size\n",
      "Recall  :  0.5\n",
      "F1  :  0.4\n",
      "Precision  :  0.333333333333\n",
      "Accuracy  :  0.785714285714\n",
      "\n",
      "NB: 0.3 test size\n",
      "Recall  :  0.75\n",
      "F1  :  0.6\n",
      "Precision  :  0.5\n",
      "Accuracy  :  0.9\n",
      "\n",
      "NB: 0.5 test size\n",
      "Recall  :  0.5\n",
      "F1  :  0.5\n",
      "Precision  :  0.5\n",
      "Accuracy  :  0.909090909091\n",
      "\n",
      "SelectKBest() best features, k = 3\n",
      "\n",
      "NB: 0.1 test size\n",
      "Recall  :  0.5\n",
      "F1  :  0.4\n",
      "Precision  :  0.333333333333\n",
      "Accuracy  :  0.785714285714\n",
      "\n",
      "NB: 0.3 test size\n",
      "Recall  :  0.75\n",
      "F1  :  0.6\n",
      "Precision  :  0.5\n",
      "Accuracy  :  0.9\n",
      "\n",
      "NB: 0.5 test size\n",
      "Recall  :  0.5\n",
      "F1  :  0.5\n",
      "Precision  :  0.5\n",
      "Accuracy  :  0.909090909091\n",
      "\n",
      "SelectKBest() best features, k = 2\n",
      "\n",
      "NB: 0.1 test size\n",
      "Recall  :  0.5\n",
      "F1  :  0.4\n",
      "Precision  :  0.333333333333\n",
      "Accuracy  :  0.785714285714\n",
      "\n",
      "NB: 0.3 test size\n",
      "Recall  :  0.75\n",
      "F1  :  0.6\n",
      "Precision  :  0.5\n",
      "Accuracy  :  0.9\n",
      "\n",
      "NB: 0.5 test size\n",
      "Recall  :  0.428571428571\n",
      "F1  :  0.461538461538\n",
      "Precision  :  0.5\n",
      "Accuracy  :  0.893939393939\n",
      "\n",
      "SelectKBest() best features, k = 1\n",
      "\n",
      "NB: 0.1 test size\n",
      "Recall  :  1.0\n",
      "F1  :  0.5\n",
      "Precision  :  0.333333333333\n",
      "Accuracy  :  0.857142857143\n",
      "\n",
      "NB: 0.3 test size\n",
      "Recall  :  1.0\n",
      "F1  :  0.666666666667\n",
      "Precision  :  0.5\n",
      "Accuracy  :  0.925\n",
      "\n",
      "NB: 0.5 test size\n",
      "Recall  :  0.5\n",
      "F1  :  0.5\n",
      "Precision  :  0.5\n",
      "Accuracy  :  0.909090909091\n",
      "\n"
     ]
    }
   ],
   "source": [
    "acc = []\n",
    "precision = []\n",
    "recall = []\n",
    "f1 = []\n",
    "\n",
    "for n in range (9,0,-1):\n",
    "    print \"SelectKBest() best features, k =\",n\n",
    "    data = featureFormat(my_dataset, features_list, sort_keys = True)\n",
    "    labels, features_n = targetFeatureSplit(data)\n",
    "    K_best_n = SelectKBest(k=n)\n",
    "    features_Kbest_n = K_best_n.fit_transform(features_n, labels)\n",
    "\n",
    "    features_train1, features_test1, labels_train1, labels_test1 = cross_validation.train_test_split(features_Kbest_n, labels, test_size=0.1, random_state=42)\n",
    "    features_train3, features_test3, labels_train3, labels_test3 = cross_validation.train_test_split(features_Kbest_n, labels, test_size=0.3, random_state=42)\n",
    "    features_train5, features_test5, labels_train5, labels_test5 = cross_validation.train_test_split(features_Kbest_n, labels, test_size=0.5, random_state=42)\n",
    "\n",
    "    print\n",
    "    ts1 = class_run(features_train1, labels_train1, features_test1, labels_test1)\n",
    "    ts3 = class_run(features_train3, labels_train3, features_test3, labels_test3)\n",
    "    ts5 = class_run(features_train5, labels_train5, features_test5, labels_test5)\n",
    "    \n",
    "    print_it(\"NB: 0.1 test size\",ts1)\n",
    "    print_it(\"NB: 0.3 test size\",ts3)\n",
    "    print_it(\"NB: 0.5 test size\",ts5)\n",
    "    \n",
    "    acc.append(ts5[\"Accuracy\"])\n",
    "    precision.append(ts5[\"Recall\"])\n",
    "    recall.append(ts5[\"Precision\"])\n",
    "    f1.append(ts5[\"F1\"])"
   ]
  },
  {
   "cell_type": "markdown",
   "metadata": {},
   "source": [
    "### Above feature investigations\n",
    "I stored the scores for test_size=0.5 and print them below.\n",
    "We get pretty much the same results whether we use 9 feaures or 1.  The best feature is the original feature of salary, perhaps this is enough. It sounds intuitively reasonable that salary predicts POI."
   ]
  },
  {
   "cell_type": "code",
   "execution_count": 22,
   "metadata": {
    "collapsed": false,
    "scrolled": true
   },
   "outputs": [
    {
     "name": "stdout",
     "output_type": "stream",
     "text": [
      "Accuracies\n",
      "[0.90909090909090906, 0.90909090909090906, 0.89393939393939392, 0.90909090909090906, 0.90909090909090906, 0.90909090909090906, 0.90909090909090906, 0.89393939393939392, 0.90909090909090906]\n",
      "Precisions\n",
      "[0.5, 0.5, 0.42857142857142855, 0.5, 0.5, 0.5, 0.5, 0.42857142857142855, 0.5]\n",
      "Recalls\n",
      "[0.5, 0.5, 0.5, 0.5, 0.5, 0.5, 0.5, 0.5, 0.5]\n",
      "F1s\n",
      "[0.5, 0.5, 0.46153846153846151, 0.5, 0.5, 0.5, 0.5, 0.46153846153846151, 0.5]\n"
     ]
    }
   ],
   "source": [
    "print \"Accuracies\"\n",
    "print acc\n",
    "print \"Precisions\"\n",
    "print precision\n",
    "print \"Recalls\"\n",
    "print recall\n",
    "print \"F1s\"\n",
    "print f1"
   ]
  },
  {
   "cell_type": "markdown",
   "metadata": {},
   "source": [
    "### Task 4: Try a varity of classifiers\n",
    "### Please name your classifier clf for easy export below.\n",
    "### Note that if you want to do PCA or other multi-stage operations,\n",
    "### you'll need to use Pipelines. For more info:\n",
    "### http://scikit-learn.org/stable/modules/pipeline.html"
   ]
  },
  {
   "cell_type": "markdown",
   "metadata": {},
   "source": [
    "# Trying KNN() with 3 neighbors\n",
    "I stored the scores for test_size=0.5 and print them below.\n",
    "Again, we get similar results whether we use 10 features all the way to just 1, salary."
   ]
  },
  {
   "cell_type": "code",
   "execution_count": 23,
   "metadata": {
    "collapsed": false
   },
   "outputs": [
    {
     "name": "stdout",
     "output_type": "stream",
     "text": [
      "All 10 features, KNN, k=3\n",
      "\n",
      "KNN: 0.1 test size\n",
      "Recall  :  1.0\n",
      "F1  :  0.5\n",
      "Precision  :  0.333333333333\n",
      "Accuracy  :  0.857142857143\n",
      "\n",
      "KNN: 0.3 test size\n",
      "Recall  :  0.0\n",
      "F1  :  0.0\n",
      "Precision  :  0.0\n",
      "Accuracy  :  0.825\n",
      "\n",
      "KNN: 0.5 test size\n",
      "Recall  :  0.375\n",
      "F1  :  0.428571428571\n",
      "Precision  :  0.5\n",
      "Accuracy  :  0.878787878788\n",
      "\n"
     ]
    }
   ],
   "source": [
    "def classify_KNN(features_train, labels_train):\n",
    "    \n",
    "    ### your code goes here--should return a trained decision tree classifer\n",
    "    \n",
    "    clf = KNeighborsClassifier(3)\n",
    "    clf.fit(features_train, labels_train)\n",
    "    return clf\n",
    "\n",
    "def class_run_KNN(features_train, labels_train, features_test, labels_test):\n",
    "    clf = classify_KNN(features_train, labels_train)\n",
    "    pred = clf.predict(features_test)\n",
    "    return {\"Accuracy\":accuracy_score(pred,labels_test),\\\n",
    "                          \"Precision\":precision_score(pred,labels_test),\\\n",
    "                          \"Recall\":recall_score(pred,labels_test),\\\n",
    "                          \"F1\":f1_score(pred,labels_test)}\n",
    "\n",
    "print \"All 10 features, KNN, k=3\"\n",
    "print\n",
    "print_it(\"KNN: 0.1 test size\",class_run_KNN(features_train1, labels_train1, features_test1, labels_test1))\n",
    "print_it(\"KNN: 0.3 test size\",class_run_KNN(features_train3, labels_train3, features_test3, labels_test3))\n",
    "print_it(\"KNN: 0.5 test size\",class_run_KNN(features_train5, labels_train5, features_test5, labels_test5))"
   ]
  },
  {
   "cell_type": "code",
   "execution_count": 24,
   "metadata": {
    "collapsed": false
   },
   "outputs": [
    {
     "name": "stdout",
     "output_type": "stream",
     "text": [
      "SelectKBest() best features, k = 9\n",
      "\n",
      "KNN: 0.1 test size\n",
      "Recall  :  0.6\n",
      "F1  :  0.545454545455\n",
      "Precision  :  0.5\n",
      "Accuracy  :  0.924242424242\n",
      "\n",
      "KNN: 0.3 test size\n",
      "Recall  :  0.6\n",
      "F1  :  0.545454545455\n",
      "Precision  :  0.5\n",
      "Accuracy  :  0.924242424242\n",
      "\n",
      "KNN: 0.5 test size\n",
      "Recall  :  0.6\n",
      "F1  :  0.545454545455\n",
      "Precision  :  0.5\n",
      "Accuracy  :  0.924242424242\n",
      "\n",
      "SelectKBest() best features, k = 8\n",
      "\n",
      "KNN: 0.1 test size\n",
      "Recall  :  0.6\n",
      "F1  :  0.545454545455\n",
      "Precision  :  0.5\n",
      "Accuracy  :  0.924242424242\n",
      "\n",
      "KNN: 0.3 test size\n",
      "Recall  :  0.6\n",
      "F1  :  0.545454545455\n",
      "Precision  :  0.5\n",
      "Accuracy  :  0.924242424242\n",
      "\n",
      "KNN: 0.5 test size\n",
      "Recall  :  0.6\n",
      "F1  :  0.545454545455\n",
      "Precision  :  0.5\n",
      "Accuracy  :  0.924242424242\n",
      "\n",
      "SelectKBest() best features, k = 7\n",
      "\n",
      "KNN: 0.1 test size\n",
      "Recall  :  0.6\n",
      "F1  :  0.545454545455\n",
      "Precision  :  0.5\n",
      "Accuracy  :  0.924242424242\n",
      "\n",
      "KNN: 0.3 test size\n",
      "Recall  :  0.6\n",
      "F1  :  0.545454545455\n",
      "Precision  :  0.5\n",
      "Accuracy  :  0.924242424242\n",
      "\n",
      "KNN: 0.5 test size\n",
      "Recall  :  0.6\n",
      "F1  :  0.545454545455\n",
      "Precision  :  0.5\n",
      "Accuracy  :  0.924242424242\n",
      "\n",
      "SelectKBest() best features, k = 6\n",
      "\n",
      "KNN: 0.1 test size\n",
      "Recall  :  0.6\n",
      "F1  :  0.545454545455\n",
      "Precision  :  0.5\n",
      "Accuracy  :  0.924242424242\n",
      "\n",
      "KNN: 0.3 test size\n",
      "Recall  :  0.6\n",
      "F1  :  0.545454545455\n",
      "Precision  :  0.5\n",
      "Accuracy  :  0.924242424242\n",
      "\n",
      "KNN: 0.5 test size\n",
      "Recall  :  0.6\n",
      "F1  :  0.545454545455\n",
      "Precision  :  0.5\n",
      "Accuracy  :  0.924242424242\n",
      "\n",
      "SelectKBest() best features, k = 5\n",
      "\n",
      "KNN: 0.1 test size\n",
      "Recall  :  0.6\n",
      "F1  :  0.545454545455\n",
      "Precision  :  0.5\n",
      "Accuracy  :  0.924242424242\n",
      "\n",
      "KNN: 0.3 test size\n",
      "Recall  :  0.6\n",
      "F1  :  0.545454545455\n",
      "Precision  :  0.5\n",
      "Accuracy  :  0.924242424242\n",
      "\n",
      "KNN: 0.5 test size\n",
      "Recall  :  0.6\n",
      "F1  :  0.545454545455\n",
      "Precision  :  0.5\n",
      "Accuracy  :  0.924242424242\n",
      "\n",
      "SelectKBest() best features, k = 4\n",
      "\n",
      "KNN: 0.1 test size\n",
      "Recall  :  0.6\n",
      "F1  :  0.545454545455\n",
      "Precision  :  0.5\n",
      "Accuracy  :  0.924242424242\n",
      "\n",
      "KNN: 0.3 test size\n",
      "Recall  :  0.6\n",
      "F1  :  0.545454545455\n",
      "Precision  :  0.5\n",
      "Accuracy  :  0.924242424242\n",
      "\n",
      "KNN: 0.5 test size\n",
      "Recall  :  0.6\n",
      "F1  :  0.545454545455\n",
      "Precision  :  0.5\n",
      "Accuracy  :  0.924242424242\n",
      "\n",
      "SelectKBest() best features, k = 3\n",
      "\n",
      "KNN: 0.1 test size\n",
      "Recall  :  0.6\n",
      "F1  :  0.545454545455\n",
      "Precision  :  0.5\n",
      "Accuracy  :  0.924242424242\n",
      "\n",
      "KNN: 0.3 test size\n",
      "Recall  :  0.6\n",
      "F1  :  0.545454545455\n",
      "Precision  :  0.5\n",
      "Accuracy  :  0.924242424242\n",
      "\n",
      "KNN: 0.5 test size\n",
      "Recall  :  0.6\n",
      "F1  :  0.545454545455\n",
      "Precision  :  0.5\n",
      "Accuracy  :  0.924242424242\n",
      "\n",
      "SelectKBest() best features, k = 2\n",
      "\n",
      "KNN: 0.1 test size\n",
      "Recall  :  0.6\n",
      "F1  :  0.545454545455\n",
      "Precision  :  0.5\n",
      "Accuracy  :  0.924242424242\n",
      "\n",
      "KNN: 0.3 test size\n",
      "Recall  :  0.6\n",
      "F1  :  0.545454545455\n",
      "Precision  :  0.5\n",
      "Accuracy  :  0.924242424242\n",
      "\n",
      "KNN: 0.5 test size\n",
      "Recall  :  0.6\n",
      "F1  :  0.545454545455\n",
      "Precision  :  0.5\n",
      "Accuracy  :  0.924242424242\n",
      "\n",
      "SelectKBest() best features, k = 1\n",
      "\n",
      "KNN: 0.1 test size\n",
      "Recall  :  0.375\n",
      "F1  :  0.428571428571\n",
      "Precision  :  0.5\n",
      "Accuracy  :  0.878787878788\n",
      "\n",
      "KNN: 0.3 test size\n",
      "Recall  :  0.375\n",
      "F1  :  0.428571428571\n",
      "Precision  :  0.5\n",
      "Accuracy  :  0.878787878788\n",
      "\n",
      "KNN: 0.5 test size\n",
      "Recall  :  0.375\n",
      "F1  :  0.428571428571\n",
      "Precision  :  0.5\n",
      "Accuracy  :  0.878787878788\n",
      "\n"
     ]
    }
   ],
   "source": [
    "acc = []\n",
    "precision = []\n",
    "recall = []\n",
    "f1 = []\n",
    "\n",
    "for n in range (9,0,-1):\n",
    "    print \"SelectKBest() best features, k =\",n\n",
    "    data = featureFormat(my_dataset, features_list, sort_keys = True)\n",
    "    labels, features_n = targetFeatureSplit(data)\n",
    "    K_best_n = SelectKBest(k=n)\n",
    "    features_Kbest_n = K_best_n.fit_transform(features_n, labels)\n",
    "\n",
    "    features_train1, features_test1, labels_train1, labels_test1 = cross_validation.train_test_split(features_Kbest_n, labels, test_size=0.1, random_state=42)\n",
    "    features_train3, features_test3, labels_train3, labels_test3 = cross_validation.train_test_split(features_Kbest_n, labels, test_size=0.3, random_state=42)\n",
    "    features_train5, features_test5, labels_train5, labels_test5 = cross_validation.train_test_split(features_Kbest_n, labels, test_size=0.5, random_state=42)\n",
    "\n",
    "    print\n",
    "    ts1 = class_run_KNN(features_train1, labels_train1, features_test1, labels_test1)\n",
    "    ts3 = class_run_KNN(features_train3, labels_train3, features_test3, labels_test3)\n",
    "    ts5 = class_run_KNN(features_train5, labels_train5, features_test5, labels_test5)\n",
    "    \n",
    "    print_it(\"KNN: 0.1 test size\",ts5)\n",
    "    print_it(\"KNN: 0.3 test size\",ts5)\n",
    "    print_it(\"KNN: 0.5 test size\",ts5)\n",
    "    \n",
    "    acc.append(ts5[\"Accuracy\"])\n",
    "    precision.append(ts5[\"Recall\"])\n",
    "    recall.append(ts5[\"Precision\"])\n",
    "    f1.append(ts5[\"F1\"])"
   ]
  },
  {
   "cell_type": "code",
   "execution_count": 25,
   "metadata": {
    "collapsed": false
   },
   "outputs": [
    {
     "name": "stdout",
     "output_type": "stream",
     "text": [
      "Accuracies\n",
      "[0.9242424242424242, 0.9242424242424242, 0.9242424242424242, 0.9242424242424242, 0.9242424242424242, 0.9242424242424242, 0.9242424242424242, 0.9242424242424242, 0.87878787878787878]\n",
      "Precisions\n",
      "[0.59999999999999998, 0.59999999999999998, 0.59999999999999998, 0.59999999999999998, 0.59999999999999998, 0.59999999999999998, 0.59999999999999998, 0.59999999999999998, 0.375]\n",
      "Recalls\n",
      "[0.5, 0.5, 0.5, 0.5, 0.5, 0.5, 0.5, 0.5, 0.5]\n",
      "F1s\n",
      "[0.54545454545454541, 0.54545454545454541, 0.54545454545454541, 0.54545454545454541, 0.54545454545454541, 0.54545454545454541, 0.54545454545454541, 0.54545454545454541, 0.42857142857142855]\n"
     ]
    }
   ],
   "source": [
    "print \"Accuracies\"\n",
    "print acc\n",
    "print \"Precisions\"\n",
    "print precision\n",
    "print \"Recalls\"\n",
    "print recall\n",
    "print \"F1s\"\n",
    "print f1"
   ]
  },
  {
   "cell_type": "markdown",
   "metadata": {},
   "source": [
    "### Task 5: Tune your classifier to achieve better than .3 precision and recall \n",
    "### using our testing script. Check the tester.py script in the final project\n",
    "### folder for details on the evaluation method, especially the test_classifier\n",
    "### function. Because of the small size of the dataset, the script uses\n",
    "### stratified shuffle split cross validation. For more info: \n",
    "### http://scikit-learn.org/stable/modules/generated/sklearn.cross_validation.StratifiedShuffleSplit.html\n",
    "\n",
    "# Example starting point. Try investigating other evaluation techniques!"
   ]
  },
  {
   "cell_type": "markdown",
   "metadata": {},
   "source": [
    "## 10 gridSearchCSVs on KNN, evaluating by F1 score\n",
    "Of these 10 searches, I got the following two classifiers, 5 times each\n",
    "Classifier 1\n",
    "KNeighborsClassifier(algorithm='auto', leaf_size=3, metric='minkowski',\n",
    "           metric_params=None, n_jobs=1, n_neighbors=1, p=1,\n",
    "           weights='uniform')        \n",
    "F1 = 0.45\n",
    "\n",
    "Classifier 2\n",
    "KNeighborsClassifier(algorithm='auto', leaf_size=3, metric='minkowski',\n",
    "           metric_params=None, n_jobs=1, n_neighbors=1, p=1,\n",
    "           weights='uniform')        \n",
    "F1 = 0.37\n",
    "\n",
    "## All 10 features, test size 0.3"
   ]
  },
  {
   "cell_type": "code",
   "execution_count": 26,
   "metadata": {
    "collapsed": false
   },
   "outputs": [
    {
     "name": "stderr",
     "output_type": "stream",
     "text": [
      "/Users/robertlee/anaconda/envs/py2/lib/python2.7/site-packages/sklearn/metrics/classification.py:1113: UndefinedMetricWarning: F-score is ill-defined and being set to 0.0 due to no predicted samples.\n",
      "  'precision', 'predicted', average, warn_for)\n"
     ]
    },
    {
     "name": "stdout",
     "output_type": "stream",
     "text": [
      "Best KNN\n",
      "Pipeline(steps=[('scaling', MinMaxScaler(copy=True, feature_range=(0, 1))), ('knn', KNeighborsClassifier(algorithm='auto', leaf_size=3, metric='minkowski',\n",
      "           metric_params=None, n_jobs=1, n_neighbors=1, p=1,\n",
      "           weights='uniform'))])\n",
      "{'knn__leaf_size': 3, 'knn__algorithm': 'auto', 'knn__n_neighbors': 1, 'knn__p': 1}\n",
      "0.371892385392\n",
      "make_scorer(f1_score)\n"
     ]
    }
   ],
   "source": [
    "data = featureFormat(my_dataset, features_list, sort_keys = True)\n",
    "labels, features = targetFeatureSplit(data)\n",
    "\n",
    "knn =  KNeighborsClassifier()\n",
    "scaler = MinMaxScaler()\n",
    "sss = StratifiedShuffleSplit(n_splits = 100, test_size=0.3,random_state=42)\n",
    "\n",
    "pipe = Pipeline(steps=[('scaling', scaler), (\"knn\", knn)])\n",
    "\n",
    "param_grid = {\"knn__n_neighbors\": [1, 3, 5, 8, 10, 12, 14],\n",
    "              \"knn__algorithm\": [\"auto\",\"ball_tree\", \"kd_tree\", \"brute\"],\n",
    "              \"knn__leaf_size\": range(3,10,1),\n",
    "              \"knn__p\": [1,2]\n",
    "             }\n",
    "\n",
    "knnclf = GridSearchCV(pipe, param_grid, scoring='f1', cv=sss)\n",
    "knnclf.fit(features, labels)\n",
    "bestknn = knnclf.best_estimator_\n",
    "bestparams = knnclf.best_params_\n",
    "bestscore = knnclf.best_score_\n",
    "bestscorer = knnclf.scorer_\n",
    "bestcv = knnclf.cv_results_\n",
    "print \"Best KNN\"\n",
    "print bestknn\n",
    "print bestparams\n",
    "print bestscore\n",
    "print bestscorer"
   ]
  },
  {
   "cell_type": "markdown",
   "metadata": {},
   "source": [
    "# test_classifier issue\n",
    "I then tried using test_classifier method from tester.py. I reduced the number of folds from 1000 to 10, but it still was running after 5 minutes, so I think something is wrong.\n",
    "\n",
    "print test_classifier(knnclf, my_dataset, features_list)\n",
    "\n",
    "So instead below I test the classifier three times with different test sizes. The results look adequate, but I guess I need you to run the tester on my final classifier."
   ]
  },
  {
   "cell_type": "code",
   "execution_count": 56,
   "metadata": {
    "collapsed": false
   },
   "outputs": [
    {
     "name": "stdout",
     "output_type": "stream",
     "text": [
      "Testing Above Classifier\n",
      "\n",
      "Testing on 0.1 of sample\n",
      "accuracy 0.785714285714\n",
      "precision 0.333333333333\n",
      "recall 0.5\n",
      "F1 0.4\n",
      "\n",
      "Testing on 0.3 of sample\n",
      "accuracy 0.825\n",
      "precision 0.5\n",
      "recall 0.428571428571\n",
      "F1 0.461538461538\n",
      "\n",
      "Testing on 0.5 of sample\n",
      "accuracy 0.818181818182\n",
      "precision 0.5\n",
      "recall 0.25\n",
      "F1 0.333333333333\n"
     ]
    }
   ],
   "source": [
    "best = KNeighborsClassifier(algorithm='auto', leaf_size=3, metric='minkowski',\n",
    "           metric_params=None, n_jobs=1, n_neighbors=1, p=1,\n",
    "           weights='uniform')\n",
    "\n",
    "data = featureFormat(my_dataset, features_list, sort_keys = True)\n",
    "labels, features = targetFeatureSplit(data)\n",
    "\n",
    "features_train1, features_test1, labels_train1, labels_test1 = cross_validation.train_test_split(features, labels, test_size=0.1, random_state=42)\n",
    "features_train3, features_test3, labels_train3, labels_test3 = cross_validation.train_test_split(features, labels, test_size=0.3, random_state=42)\n",
    "features_train5, features_test5, labels_train5, labels_test5 = cross_validation.train_test_split(features, labels, test_size=0.5, random_state=42)\n",
    "\n",
    "print \"Testing Above Classifier\"\n",
    "print\n",
    "best.fit(features_train1, labels_train1)\n",
    "pred = best.predict(features_test1)\n",
    "print \"Testing on 0.1 of sample\"\n",
    "print \"accuracy\",accuracy_score(pred,labels_test1)\n",
    "print \"precision\",precision_score(pred,labels_test1)\n",
    "print \"recall\",recall_score(pred,labels_test1)\n",
    "print \"F1\",f1_score(pred,labels_test1)\n",
    "print\n",
    "\n",
    "best.fit(features_train3, labels_train3)\n",
    "pred = best.predict(features_test3)\n",
    "print \"Testing on 0.3 of sample\"\n",
    "print \"accuracy\",accuracy_score(pred,labels_test3)\n",
    "print \"precision\",precision_score(pred,labels_test3)\n",
    "print \"recall\",recall_score(pred,labels_test3)\n",
    "print \"F1\",f1_score(pred,labels_test3)\n",
    "print\n",
    "\n",
    "best.fit(features_train5, labels_train5)\n",
    "pred = best.predict(features_test5)\n",
    "print \"Testing on 0.5 of sample\"\n",
    "print \"accuracy\",accuracy_score(pred,labels_test5)\n",
    "print \"precision\",precision_score(pred,labels_test5)\n",
    "print \"recall\",recall_score(pred,labels_test5)\n",
    "print \"F1\",f1_score(pred,labels_test5)"
   ]
  },
  {
   "cell_type": "markdown",
   "metadata": {},
   "source": [
    "## All 10 features, test size 0.1"
   ]
  },
  {
   "cell_type": "code",
   "execution_count": 27,
   "metadata": {
    "collapsed": false
   },
   "outputs": [
    {
     "name": "stdout",
     "output_type": "stream",
     "text": [
      "Best KNN\n",
      "Pipeline(steps=[('scaling', MinMaxScaler(copy=True, feature_range=(0, 1))), ('knn', KNeighborsClassifier(algorithm='auto', leaf_size=3, metric='minkowski',\n",
      "           metric_params=None, n_jobs=1, n_neighbors=1, p=2,\n",
      "           weights='uniform'))])\n",
      "{'knn__leaf_size': 3, 'knn__algorithm': 'auto', 'knn__n_neighbors': 1, 'knn__p': 2}\n",
      "0.446904761905\n",
      "make_scorer(f1_score)\n"
     ]
    }
   ],
   "source": [
    "knn =  KNeighborsClassifier()\n",
    "scaler = MinMaxScaler()\n",
    "sss = StratifiedShuffleSplit(n_splits = 100, test_size=0.1,random_state=42)\n",
    "\n",
    "pipe = Pipeline(steps=[('scaling', scaler), (\"knn\", knn)])\n",
    "\n",
    "param_grid = {\"knn__n_neighbors\": [1, 3, 5, 8, 10, 12, 14],\n",
    "              \"knn__algorithm\": [\"auto\",\"ball_tree\", \"kd_tree\", \"brute\"],\n",
    "              \"knn__leaf_size\": range(3,10,1),\n",
    "              \"knn__p\": [1,2]\n",
    "             }\n",
    "\n",
    "knnclf = GridSearchCV(pipe, param_grid, scoring='f1', cv=sss)\n",
    "knnclf.fit(features, labels)\n",
    "bestknn = knnclf.best_estimator_\n",
    "bestparams = knnclf.best_params_\n",
    "bestscore = knnclf.best_score_\n",
    "bestscorer = knnclf.scorer_\n",
    "bestcv = knnclf.cv_results_\n",
    "print \"Best KNN\"\n",
    "print bestknn\n",
    "print bestparams\n",
    "print bestscore\n",
    "print bestscorer"
   ]
  },
  {
   "cell_type": "code",
   "execution_count": 57,
   "metadata": {
    "collapsed": false
   },
   "outputs": [
    {
     "name": "stdout",
     "output_type": "stream",
     "text": [
      "Testing Above Classifier\n",
      "\n",
      "Testing on 0.1 of sample\n",
      "accuracy 0.785714285714\n",
      "precision 0.333333333333\n",
      "recall 0.5\n",
      "F1 0.4\n",
      "\n",
      "Testing on 0.3 of sample\n",
      "accuracy 0.825\n",
      "precision 0.5\n",
      "recall 0.428571428571\n",
      "F1 0.461538461538\n",
      "\n",
      "Testing on 0.5 of sample\n",
      "accuracy 0.818181818182\n",
      "precision 0.5\n",
      "recall 0.25\n",
      "F1 0.333333333333\n"
     ]
    }
   ],
   "source": [
    "best = KNeighborsClassifier(algorithm='auto', leaf_size=3, metric='minkowski',\n",
    "           metric_params=None, n_jobs=1, n_neighbors=1, p=2,\n",
    "           weights='uniform')\n",
    "\n",
    "data = featureFormat(my_dataset, features_list, sort_keys = True)\n",
    "labels, features = targetFeatureSplit(data)\n",
    "\n",
    "features_train1, features_test1, labels_train1, labels_test1 = cross_validation.train_test_split(features, labels, test_size=0.1, random_state=42)\n",
    "features_train3, features_test3, labels_train3, labels_test3 = cross_validation.train_test_split(features, labels, test_size=0.3, random_state=42)\n",
    "features_train5, features_test5, labels_train5, labels_test5 = cross_validation.train_test_split(features, labels, test_size=0.5, random_state=42)\n",
    "\n",
    "print \"Testing Above Classifier\"\n",
    "print\n",
    "best.fit(features_train1, labels_train1)\n",
    "pred = best.predict(features_test1)\n",
    "print \"Testing on 0.1 of sample\"\n",
    "print \"accuracy\",accuracy_score(pred,labels_test1)\n",
    "print \"precision\",precision_score(pred,labels_test1)\n",
    "print \"recall\",recall_score(pred,labels_test1)\n",
    "print \"F1\",f1_score(pred,labels_test1)\n",
    "print\n",
    "\n",
    "best.fit(features_train3, labels_train3)\n",
    "pred = best.predict(features_test3)\n",
    "print \"Testing on 0.3 of sample\"\n",
    "print \"accuracy\",accuracy_score(pred,labels_test3)\n",
    "print \"precision\",precision_score(pred,labels_test3)\n",
    "print \"recall\",recall_score(pred,labels_test3)\n",
    "print \"F1\",f1_score(pred,labels_test3)\n",
    "print\n",
    "\n",
    "best.fit(features_train5, labels_train5)\n",
    "pred = best.predict(features_test5)\n",
    "print \"Testing on 0.5 of sample\"\n",
    "print \"accuracy\",accuracy_score(pred,labels_test5)\n",
    "print \"precision\",precision_score(pred,labels_test5)\n",
    "print \"recall\",recall_score(pred,labels_test5)\n",
    "print \"F1\",f1_score(pred,labels_test5)"
   ]
  },
  {
   "cell_type": "markdown",
   "metadata": {},
   "source": [
    "## 5 best features, test size 0.3"
   ]
  },
  {
   "cell_type": "code",
   "execution_count": 28,
   "metadata": {
    "collapsed": false
   },
   "outputs": [
    {
     "name": "stdout",
     "output_type": "stream",
     "text": [
      "Best KNN\n",
      "Pipeline(steps=[('scaling', MinMaxScaler(copy=True, feature_range=(0, 1))), ('knn', KNeighborsClassifier(algorithm='auto', leaf_size=3, metric='minkowski',\n",
      "           metric_params=None, n_jobs=1, n_neighbors=1, p=1,\n",
      "           weights='uniform'))])\n",
      "{'knn__leaf_size': 3, 'knn__algorithm': 'auto', 'knn__n_neighbors': 1, 'knn__p': 1}\n",
      "0.371892385392\n",
      "make_scorer(f1_score)\n"
     ]
    }
   ],
   "source": [
    "data = featureFormat(my_dataset, features_list, sort_keys = True)\n",
    "labels, features = targetFeatureSplit(data)\n",
    "K_best = SelectKBest(k=5)\n",
    "features_kbest = K_best.fit_transform(features, labels)\n",
    "\n",
    "knn =  KNeighborsClassifier()\n",
    "scaler = MinMaxScaler()\n",
    "sss = StratifiedShuffleSplit(n_splits = 100, test_size=0.3,random_state=42)\n",
    " \n",
    "pipe = Pipeline(steps=[('scaling', scaler), (\"knn\", knn)])\n",
    "\n",
    "param_grid = {\"knn__n_neighbors\": [1, 3, 5, 8, 10, 12, 14],\n",
    "              \"knn__algorithm\": [\"auto\",\"ball_tree\", \"kd_tree\", \"brute\"],\n",
    "              \"knn__leaf_size\": range(3,10,1),\n",
    "              \"knn__p\": [1,2]\n",
    "             }\n",
    "\n",
    "knnclf = GridSearchCV(pipe, param_grid, scoring='f1', cv=sss)\n",
    "knnclf.fit(features, labels)\n",
    "bestknn = knnclf.best_estimator_\n",
    "bestparams = knnclf.best_params_\n",
    "bestscore = knnclf.best_score_\n",
    "bestscorer = knnclf.scorer_\n",
    "bestcv = knnclf.cv_results_\n",
    "print \"Best KNN\"\n",
    "print bestknn\n",
    "print bestparams\n",
    "print bestscore\n",
    "print bestscorer"
   ]
  },
  {
   "cell_type": "markdown",
   "metadata": {},
   "source": [
    "## 5 best features, test size 0.1"
   ]
  },
  {
   "cell_type": "code",
   "execution_count": 29,
   "metadata": {
    "collapsed": false
   },
   "outputs": [
    {
     "name": "stdout",
     "output_type": "stream",
     "text": [
      "Best KNN\n",
      "Pipeline(steps=[('scaling', MinMaxScaler(copy=True, feature_range=(0, 1))), ('knn', KNeighborsClassifier(algorithm='auto', leaf_size=3, metric='minkowski',\n",
      "           metric_params=None, n_jobs=1, n_neighbors=1, p=2,\n",
      "           weights='uniform'))])\n",
      "{'knn__leaf_size': 3, 'knn__algorithm': 'auto', 'knn__n_neighbors': 1, 'knn__p': 2}\n",
      "0.446904761905\n",
      "make_scorer(f1_score)\n"
     ]
    }
   ],
   "source": [
    "data = featureFormat(my_dataset, features_list, sort_keys = True)\n",
    "labels, features = targetFeatureSplit(data)\n",
    "K_best = SelectKBest(k=5)\n",
    "features_kbest = K_best.fit_transform(features, labels)\n",
    "\n",
    "knn =  KNeighborsClassifier()\n",
    "scaler = MinMaxScaler()\n",
    "sss = StratifiedShuffleSplit(n_splits = 100, test_size=0.1,random_state=42)\n",
    " \n",
    "pipe = Pipeline(steps=[('scaling', scaler), (\"knn\", knn)])\n",
    "\n",
    "param_grid = {\"knn__n_neighbors\": [1, 3, 5, 8, 10, 12, 14],\n",
    "              \"knn__algorithm\": [\"auto\",\"ball_tree\", \"kd_tree\", \"brute\"],\n",
    "              \"knn__leaf_size\": range(3,10,1),\n",
    "              \"knn__p\": [1,2]\n",
    "             }\n",
    "\n",
    "knnclf = GridSearchCV(pipe, param_grid, scoring='f1', cv=sss)\n",
    "knnclf.fit(features, labels)\n",
    "bestknn = knnclf.best_estimator_\n",
    "bestparams = knnclf.best_params_\n",
    "bestscore = knnclf.best_score_\n",
    "bestscorer = knnclf.scorer_\n",
    "bestcv = knnclf.cv_results_\n",
    "print \"Best KNN\"\n",
    "print bestknn\n",
    "print bestparams\n",
    "print bestscore\n",
    "print bestscorer"
   ]
  },
  {
   "cell_type": "markdown",
   "metadata": {},
   "source": [
    "## 3 best features, test size 0.3"
   ]
  },
  {
   "cell_type": "code",
   "execution_count": 53,
   "metadata": {
    "collapsed": false
   },
   "outputs": [
    {
     "name": "stdout",
     "output_type": "stream",
     "text": [
      "Best KNN\n",
      "Pipeline(steps=[('scaling', MinMaxScaler(copy=True, feature_range=(0, 1))), ('knn', KNeighborsClassifier(algorithm='auto', leaf_size=3, metric='minkowski',\n",
      "           metric_params=None, n_jobs=1, n_neighbors=1, p=1,\n",
      "           weights='uniform'))])\n",
      "{'knn__leaf_size': 3, 'knn__algorithm': 'auto', 'knn__n_neighbors': 1, 'knn__p': 1}\n",
      "0.371892385392\n",
      "make_scorer(f1_score)\n"
     ]
    }
   ],
   "source": [
    "data = featureFormat(my_dataset, features_list, sort_keys = True)\n",
    "labels, features = targetFeatureSplit(data)\n",
    "K_best = SelectKBest(k=3)\n",
    "features_kbest = K_best.fit_transform(features, labels)\n",
    "\n",
    "knn =  KNeighborsClassifier()\n",
    "scaler = MinMaxScaler()\n",
    "sss = StratifiedShuffleSplit(n_splits = 100, test_size=0.3,random_state=42)\n",
    " \n",
    "pipe = Pipeline(steps=[('scaling', scaler), (\"knn\", knn)])\n",
    "\n",
    "param_grid = {\"knn__n_neighbors\": [1, 3, 5, 8, 10, 12, 14],\n",
    "              \"knn__algorithm\": [\"auto\",\"ball_tree\", \"kd_tree\", \"brute\"],\n",
    "              \"knn__leaf_size\": range(3,10,1),\n",
    "              \"knn__p\": [1,2]\n",
    "             }\n",
    "\n",
    "knnclf = GridSearchCV(pipe, param_grid, scoring='f1', cv=sss)\n",
    "knnclf.fit(features, labels)\n",
    "bestknn = knnclf.best_estimator_\n",
    "bestparams = knnclf.best_params_\n",
    "bestscore = knnclf.best_score_\n",
    "bestscorer = knnclf.scorer_\n",
    "bestcv = knnclf.cv_results_\n",
    "print \"Best KNN\"\n",
    "print bestknn\n",
    "print bestparams\n",
    "print bestscore\n",
    "print bestscorer"
   ]
  },
  {
   "cell_type": "markdown",
   "metadata": {},
   "source": [
    "## 3 best features, test size 0.1"
   ]
  },
  {
   "cell_type": "code",
   "execution_count": 52,
   "metadata": {
    "collapsed": false
   },
   "outputs": [
    {
     "name": "stdout",
     "output_type": "stream",
     "text": [
      "Best KNN\n",
      "Pipeline(steps=[('scaling', MinMaxScaler(copy=True, feature_range=(0, 1))), ('knn', KNeighborsClassifier(algorithm='auto', leaf_size=3, metric='minkowski',\n",
      "           metric_params=None, n_jobs=1, n_neighbors=1, p=2,\n",
      "           weights='uniform'))])\n",
      "{'knn__leaf_size': 3, 'knn__algorithm': 'auto', 'knn__n_neighbors': 1, 'knn__p': 2}\n",
      "0.446904761905\n",
      "make_scorer(f1_score)\n"
     ]
    }
   ],
   "source": [
    "data = featureFormat(my_dataset, features_list, sort_keys = True)\n",
    "labels, features = targetFeatureSplit(data)\n",
    "K_best = SelectKBest(k=3)\n",
    "features_kbest = K_best.fit_transform(features, labels)\n",
    "\n",
    "knn =  KNeighborsClassifier()\n",
    "scaler = MinMaxScaler()\n",
    "sss = StratifiedShuffleSplit(n_splits = 100, test_size=0.1,random_state=42)\n",
    " \n",
    "pipe = Pipeline(steps=[('scaling', scaler), (\"knn\", knn)])\n",
    "\n",
    "param_grid = {\"knn__n_neighbors\": [1, 3, 5, 8, 10, 12, 14],\n",
    "              \"knn__algorithm\": [\"auto\",\"ball_tree\", \"kd_tree\", \"brute\"],\n",
    "              \"knn__leaf_size\": range(3,10,1),\n",
    "              \"knn__p\": [1,2]\n",
    "             }\n",
    "\n",
    "knnclf = GridSearchCV(pipe, param_grid, scoring='f1', cv=sss)\n",
    "knnclf.fit(features, labels)\n",
    "bestknn = knnclf.best_estimator_\n",
    "bestparams = knnclf.best_params_\n",
    "bestscore = knnclf.best_score_\n",
    "bestscorer = knnclf.scorer_\n",
    "bestcv = knnclf.cv_results_\n",
    "print \"Best KNN\"\n",
    "print bestknn\n",
    "print bestparams\n",
    "print bestscore\n",
    "print bestscorer"
   ]
  },
  {
   "cell_type": "markdown",
   "metadata": {},
   "source": [
    "## 1 best features, test size 0.3"
   ]
  },
  {
   "cell_type": "code",
   "execution_count": 30,
   "metadata": {
    "collapsed": false
   },
   "outputs": [
    {
     "name": "stdout",
     "output_type": "stream",
     "text": [
      "Best KNN\n",
      "Pipeline(steps=[('scaling', MinMaxScaler(copy=True, feature_range=(0, 1))), ('knn', KNeighborsClassifier(algorithm='auto', leaf_size=3, metric='minkowski',\n",
      "           metric_params=None, n_jobs=1, n_neighbors=1, p=1,\n",
      "           weights='uniform'))])\n",
      "{'knn__leaf_size': 3, 'knn__algorithm': 'auto', 'knn__n_neighbors': 1, 'knn__p': 1}\n",
      "0.371892385392\n",
      "make_scorer(f1_score)\n"
     ]
    }
   ],
   "source": [
    "data = featureFormat(my_dataset, features_list, sort_keys = True)\n",
    "labels, features = targetFeatureSplit(data)\n",
    "K_best = SelectKBest(k=1)\n",
    "features_kbest = K_best.fit_transform(features, labels)\n",
    "\n",
    "knn =  KNeighborsClassifier()\n",
    "scaler = MinMaxScaler()\n",
    "sss = StratifiedShuffleSplit(n_splits = 100, test_size=0.3,random_state=42)\n",
    " \n",
    "pipe = Pipeline(steps=[('scaling', scaler), (\"knn\", knn)])\n",
    "\n",
    "param_grid = {\"knn__n_neighbors\": [1, 3, 5, 8, 10, 12, 14],\n",
    "              \"knn__algorithm\": [\"auto\",\"ball_tree\", \"kd_tree\", \"brute\"],\n",
    "              \"knn__leaf_size\": range(3,10,1),\n",
    "              \"knn__p\": [1,2]\n",
    "             }\n",
    "\n",
    "knnclf = GridSearchCV(pipe, param_grid, scoring='f1', cv=sss)\n",
    "knnclf.fit(features, labels)\n",
    "bestknn = knnclf.best_estimator_\n",
    "bestparams = knnclf.best_params_\n",
    "bestscore = knnclf.best_score_\n",
    "bestscorer = knnclf.scorer_\n",
    "bestcv = knnclf.cv_results_\n",
    "print \"Best KNN\"\n",
    "print bestknn\n",
    "print bestparams\n",
    "print bestscore\n",
    "print bestscorer"
   ]
  },
  {
   "cell_type": "markdown",
   "metadata": {},
   "source": [
    "## 1 best features, test size 0.1"
   ]
  },
  {
   "cell_type": "code",
   "execution_count": 31,
   "metadata": {
    "collapsed": false,
    "scrolled": true
   },
   "outputs": [
    {
     "name": "stdout",
     "output_type": "stream",
     "text": [
      "Best KNN\n",
      "Pipeline(steps=[('scaling', MinMaxScaler(copy=True, feature_range=(0, 1))), ('knn', KNeighborsClassifier(algorithm='auto', leaf_size=3, metric='minkowski',\n",
      "           metric_params=None, n_jobs=1, n_neighbors=1, p=2,\n",
      "           weights='uniform'))])\n",
      "{'knn__leaf_size': 3, 'knn__algorithm': 'auto', 'knn__n_neighbors': 1, 'knn__p': 2}\n",
      "0.446904761905\n",
      "make_scorer(f1_score)\n"
     ]
    }
   ],
   "source": [
    "data = featureFormat(my_dataset, features_list, sort_keys = True)\n",
    "labels, features = targetFeatureSplit(data)\n",
    "K_best = SelectKBest(k=1)\n",
    "features_kbest = K_best.fit_transform(features, labels)\n",
    "\n",
    "knn =  KNeighborsClassifier()\n",
    "scaler = MinMaxScaler()\n",
    "sss = StratifiedShuffleSplit(n_splits = 100, test_size=0.1,random_state=42)\n",
    " \n",
    "pipe = Pipeline(steps=[('scaling', scaler), (\"knn\", knn)])\n",
    "\n",
    "param_grid = {\"knn__n_neighbors\": [1, 3, 5, 8, 10, 12, 14],\n",
    "              \"knn__algorithm\": [\"auto\",\"ball_tree\", \"kd_tree\", \"brute\"],\n",
    "              \"knn__leaf_size\": range(3,10,1),\n",
    "              \"knn__p\": [1,2]\n",
    "             }\n",
    "\n",
    "knnclf = GridSearchCV(pipe, param_grid, scoring='f1', cv=sss)\n",
    "knnclf.fit(features, labels)\n",
    "bestknn = knnclf.best_estimator_\n",
    "bestparams = knnclf.best_params_\n",
    "bestscore = knnclf.best_score_\n",
    "bestscorer = knnclf.scorer_\n",
    "bestcv = knnclf.cv_results_\n",
    "print \"Best KNN\"\n",
    "print bestknn\n",
    "print bestparams\n",
    "print bestscore\n",
    "print bestscorer"
   ]
  },
  {
   "cell_type": "markdown",
   "metadata": {},
   "source": [
    "## AdaBoostClassifier() with DecisionTreeClassifier()\n",
    "F1 = 0.32"
   ]
  },
  {
   "cell_type": "code",
   "execution_count": 49,
   "metadata": {
    "collapsed": false,
    "scrolled": false
   },
   "outputs": [
    {
     "name": "stdout",
     "output_type": "stream",
     "text": [
      "Best Ada\n",
      "Pipeline(steps=[('scaling', MinMaxScaler(copy=True, feature_range=(0, 1))), ('ada', AdaBoostClassifier(algorithm='SAMME.R',\n",
      "          base_estimator=DecisionTreeClassifier(class_weight='balanced', criterion='entropy',\n",
      "            max_depth=None, max_features='auto', max_leaf_nodes=None,\n",
      "            min_impur...dom_state=42, splitter='random'),\n",
      "          learning_rate=1.0, n_estimators=10, random_state=None))])\n",
      "{'ada__base_estimator__splitter': 'random', 'ada__n_estimators': 10, 'ada__base_estimator__criterion': 'entropy'}\n",
      "0.324214285714\n",
      "make_scorer(f1_score)\n"
     ]
    }
   ],
   "source": [
    "DTC = DecisionTreeClassifier(random_state = 42, max_features = \"auto\", class_weight = \"balanced\",max_depth = None)\n",
    "ada = AdaBoostClassifier(base_estimator=DTC)\n",
    "\n",
    "scaler = MinMaxScaler()\n",
    "sss = StratifiedShuffleSplit(n_splits = 100, test_size=0.1,random_state=42)\n",
    "\n",
    "pipe = Pipeline(steps=[('scaling',scaler),(\"ada\", ada)])\n",
    "\n",
    "param_grid = {\"ada__base_estimator__criterion\" : [\"gini\", \"entropy\"],\n",
    "              \"ada__base_estimator__splitter\" :   [\"best\", \"random\"],\n",
    "              \"ada__n_estimators\": [1, 10, 50, 100, 200]\n",
    "             }\n",
    "     \n",
    "adaclf = GridSearchCV(pipe, param_grid, scoring='f1', cv=sss)\n",
    "adaclf.fit(features, labels)\n",
    "bestada = adaclf.best_estimator_\n",
    "bestparams = adaclf.best_params_\n",
    "bestscore = adaclf.best_score_\n",
    "bestscorer = adaclf.scorer_\n",
    "bestcv = adaclf.cv_results_\n",
    "print \"Best Ada\"\n",
    "print bestada\n",
    "print bestparams\n",
    "print bestscore\n",
    "print bestscorer"
   ]
  },
  {
   "cell_type": "markdown",
   "metadata": {},
   "source": [
    "## AdaBoostClassifier() with GaussianNB()\n",
    "F1 = 0.25"
   ]
  },
  {
   "cell_type": "code",
   "execution_count": 51,
   "metadata": {
    "collapsed": false
   },
   "outputs": [
    {
     "name": "stderr",
     "output_type": "stream",
     "text": [
      "/Users/robertlee/anaconda/envs/py2/lib/python2.7/site-packages/sklearn/naive_bayes.py:232: RuntimeWarning: invalid value encountered in divide\n",
      "  new_mu = np.average(X, axis=0, weights=sample_weight / n_new)\n",
      "/Users/robertlee/anaconda/envs/py2/lib/python2.7/site-packages/sklearn/naive_bayes.py:234: RuntimeWarning: invalid value encountered in divide\n",
      "  weights=sample_weight / n_new)\n",
      "/Users/robertlee/anaconda/envs/py2/lib/python2.7/site-packages/sklearn/naive_bayes.py:427: RuntimeWarning: divide by zero encountered in log\n",
      "  jointi = np.log(self.class_prior_[i])\n",
      "/Users/robertlee/anaconda/envs/py2/lib/python2.7/site-packages/sklearn/ensemble/weight_boosting.py:519: RuntimeWarning: invalid value encountered in less\n",
      "  proba[proba < np.finfo(proba.dtype).eps] = np.finfo(proba.dtype).eps\n",
      "/Users/robertlee/anaconda/envs/py2/lib/python2.7/site-packages/sklearn/ensemble/weight_boosting.py:288: RuntimeWarning: invalid value encountered in less\n",
      "  proba[proba < np.finfo(proba.dtype).eps] = np.finfo(proba.dtype).eps\n",
      "/Users/robertlee/anaconda/envs/py2/lib/python2.7/site-packages/sklearn/ensemble/weight_boosting.py:603: RuntimeWarning: invalid value encountered in greater\n",
      "  return self.classes_.take(pred > 0, axis=0)\n",
      "/Users/robertlee/anaconda/envs/py2/lib/python2.7/site-packages/sklearn/ensemble/weight_boosting.py:531: RuntimeWarning: invalid value encountered in less\n",
      "  (estimator_weight < 0)))\n",
      "/Users/robertlee/anaconda/envs/py2/lib/python2.7/site-packages/sklearn/ensemble/weight_boosting.py:530: RuntimeWarning: invalid value encountered in greater\n",
      "  ((sample_weight > 0) |\n"
     ]
    },
    {
     "name": "stdout",
     "output_type": "stream",
     "text": [
      "Best Ada\n",
      "Pipeline(steps=[('scaling', MinMaxScaler(copy=True, feature_range=(0, 1))), ('ada', AdaBoostClassifier(algorithm='SAMME.R',\n",
      "          base_estimator=GaussianNB(priors=None), learning_rate=1.0,\n",
      "          n_estimators=1, random_state=None))])\n",
      "{'ada__n_estimators': 1}\n",
      "0.253238095238\n",
      "make_scorer(f1_score)\n"
     ]
    }
   ],
   "source": [
    "NB = GaussianNB()\n",
    "adaN = AdaBoostClassifier(base_estimator=NB)\n",
    "\n",
    "scaler = MinMaxScaler()\n",
    "sss = StratifiedShuffleSplit(n_splits = 100, test_size=0.1,random_state=42)\n",
    "\n",
    "pipe = Pipeline(steps=[('scaling',scaler),(\"ada\", adaN)])\n",
    "\n",
    "param_grid = {\n",
    "              \"ada__n_estimators\": [1, 10, 50, 100, 200]\n",
    "             }\n",
    "     \n",
    "adaclf = GridSearchCV(pipe, param_grid, scoring='f1', cv=sss)\n",
    "adaclf.fit(features, labels)\n",
    "bestada = adaclf.best_estimator_\n",
    "bestparams = adaclf.best_params_\n",
    "bestscore = adaclf.best_score_\n",
    "bestscorer = adaclf.scorer_\n",
    "bestcv = adaclf.cv_results_\n",
    "print \"Best Ada\"\n",
    "print bestada\n",
    "print bestparams\n",
    "print bestscore\n",
    "print bestscorer"
   ]
  },
  {
   "cell_type": "markdown",
   "metadata": {},
   "source": [
    "## Dumping classifer, dataset, and feature_list to .pkl"
   ]
  },
  {
   "cell_type": "code",
   "execution_count": null,
   "metadata": {
    "collapsed": true
   },
   "outputs": [],
   "source": [
    "clf = best\n",
    "CLF_PICKLE_FILENAME = \"my_classifier.pkl\"\n",
    "DATASET_PICKLE_FILENAME = \"my_dataset.pkl\"\n",
    "FEATURE_LIST_FILENAME = \"my_feature_list.pkl\"\n",
    "\n",
    "def dump_classifier_and_data(clf, dataset, feature_list):\n",
    "    with open(CLF_PICKLE_FILENAME, \"w\") as clf_outfile:\n",
    "        pickle.dump(clf, clf_outfile)\n",
    "    with open(DATASET_PICKLE_FILENAME, \"w\") as dataset_outfile:\n",
    "        pickle.dump(dataset, dataset_outfile)\n",
    "    with open(FEATURE_LIST_FILENAME, \"w\") as featurelist_outfile:\n",
    "        pickle.dump(feature_list, featurelist_outfile)\n",
    "        \n",
    "dump_classifier_and_data(bestknn, data_dict, features_list)"
   ]
  },
  {
   "cell_type": "code",
   "execution_count": null,
   "metadata": {
    "collapsed": true
   },
   "outputs": [],
   "source": [
    "## Checking the written files"
   ]
  },
  {
   "cell_type": "code",
   "execution_count": null,
   "metadata": {
    "collapsed": false
   },
   "outputs": [],
   "source": [
    "with open(\"my_classifier.pkl\", \"r\") as file:\n",
    "    clf = pickle.load(file)\n",
    "print clf"
   ]
  },
  {
   "cell_type": "code",
   "execution_count": null,
   "metadata": {
    "collapsed": false,
    "scrolled": true
   },
   "outputs": [],
   "source": [
    "with open(\"my_dataset.pkl\", \"r\") as file:\n",
    "    data = pickle.load(file)\n",
    "for person in data:\n",
    "    print person, data[person]\n",
    "    break"
   ]
  },
  {
   "cell_type": "code",
   "execution_count": null,
   "metadata": {
    "collapsed": false
   },
   "outputs": [],
   "source": [
    "with open(\"my_feature_list.pkl\", \"r\") as file:\n",
    "    features = pickle.load(file)\n",
    "print features"
   ]
  },
  {
   "cell_type": "code",
   "execution_count": null,
   "metadata": {
    "collapsed": true
   },
   "outputs": [],
   "source": []
  }
 ],
 "metadata": {
  "anaconda-cloud": {},
  "kernelspec": {
   "display_name": "Python [py2]",
   "language": "python",
   "name": "Python [py2]"
  },
  "language_info": {
   "codemirror_mode": {
    "name": "ipython",
    "version": 2
   },
   "file_extension": ".py",
   "mimetype": "text/x-python",
   "name": "python",
   "nbconvert_exporter": "python",
   "pygments_lexer": "ipython2",
   "version": "2.7.13"
  }
 },
 "nbformat": 4,
 "nbformat_minor": 1
}
