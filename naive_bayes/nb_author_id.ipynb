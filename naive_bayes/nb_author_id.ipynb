{
 "cells": [
  {
   "cell_type": "markdown",
   "metadata": {},
   "source": [
    "General Instructions:  \n",
    "This is intended to give you a quick intro to Python as an alternative or supplement to the Intro to Computer Science class. As you go through the code below, there are instructions (indicated by ##). Always leave the instructions commented out. The individual blocks of code are commented out (#) so you can try them one at a time. As you go through them, try changing things and see what happens. Often times, the best way to learn programming is through experimentation.\n",
    "\n",
    "Part 1: Data Types  \n",
    "Below are examples of some common data types in Python. You will learn how to check a variable's type, and change it's type. This is good to know because having the wrong data type is a frequent source of errors in Python."
   ]
  },
  {
   "cell_type": "code",
   "execution_count": 8,
   "metadata": {
    "collapsed": false
   },
   "outputs": [
    {
     "name": "stdout",
     "output_type": "stream",
     "text": [
      "5.0\n",
      "True\n"
     ]
    }
   ],
   "source": [
    "## define some variables\n",
    "string_var = 'this is a string'\n",
    "integer_var = 5\n",
    "float_var = 3.14\n",
    "boolean_var = True\n",
    "\n",
    "## 1a. Check the type of each variable - run this code for each of the variables listed above\n",
    "#type(boolean_var)\n",
    "\n",
    "## 1b. Change the type of some variables - see what works and what doesn't. You can also change the values of \n",
    "# the variables listed above to make them fit different types.\n",
    "#float(integer_var)\n",
    "\n",
    "## 1c. Use a simple if statement to catch if a variable is the type you expect.\n",
    "#if type(float_var) == float:\n",
    "#   print True"
   ]
  },
  {
   "cell_type": "markdown",
   "metadata": {},
   "source": [
    "Part 2: Data Structures\n",
    "You will be working with data structures a lot throughout the nanodegree. The best way to get comfortable with these is practice."
   ]
  },
  {
   "cell_type": "code",
   "execution_count": 31,
   "metadata": {
    "collapsed": false
   },
   "outputs": [
    {
     "name": "stdout",
     "output_type": "stream",
     "text": [
      "I\n",
      " am a s\n"
     ]
    },
    {
     "ename": "TypeError",
     "evalue": "'str' object does not support item assignment",
     "output_type": "error",
     "traceback": [
      "\u001b[0;31m---------------------------------------------------------------------------\u001b[0m",
      "\u001b[0;31mTypeError\u001b[0m                                 Traceback (most recent call last)",
      "\u001b[0;32m<ipython-input-31-8cc3d7b94e1b>\u001b[0m in \u001b[0;36m<module>\u001b[0;34m()\u001b[0m\n\u001b[1;32m      8\u001b[0m \u001b[0;32mprint\u001b[0m \u001b[0ms\u001b[0m\u001b[0;34m[\u001b[0m\u001b[0;36m1\u001b[0m\u001b[0;34m:\u001b[0m\u001b[0;36m8\u001b[0m\u001b[0;34m]\u001b[0m\u001b[0;34m\u001b[0m\u001b[0m\n\u001b[1;32m      9\u001b[0m \u001b[0;31m## or replace a character\u001b[0m\u001b[0;34m\u001b[0m\u001b[0;34m\u001b[0m\u001b[0m\n\u001b[0;32m---> 10\u001b[0;31m \u001b[0ms\u001b[0m\u001b[0;34m[\u001b[0m\u001b[0;36m0\u001b[0m\u001b[0;34m]\u001b[0m \u001b[0;34m=\u001b[0m \u001b[0;34m'i'\u001b[0m\u001b[0;34m\u001b[0m\u001b[0m\n\u001b[0m\u001b[1;32m     11\u001b[0m \u001b[0;32mprint\u001b[0m \u001b[0ms\u001b[0m\u001b[0;34m\u001b[0m\u001b[0m\n\u001b[1;32m     12\u001b[0m \u001b[0;34m\u001b[0m\u001b[0m\n",
      "\u001b[0;31mTypeError\u001b[0m: 'str' object does not support item assignment"
     ]
    }
   ],
   "source": [
    "## 2a. Strings - both a data type and a data structure. Strings have special features that other data types \n",
    "## don't have.\n",
    "## Strings are indexed (meaning that you can call an item by it's position) and ordered (those postions are fixed)\n",
    "## You can call a string character by index using brackets. Don't forget that in Python, counting starts at 0!\n",
    "s = 'I am a string'\n",
    "#print s[0]\n",
    "## You can also call a range of characters\n",
    "#print s[1:8]\n",
    "## Strings are immutable. If you try to change a character, you will get an error.\n",
    "#s[0] = 'i'\n",
    "\n",
    "\n",
    "\n",
    "## 2b. Lists - a literal list of things\n",
    "## define a list with brackets\n",
    "l = ['apples', 'bananas', 'oranges']\n",
    "#print l\n",
    "## Like strings, lists are indexed and ordered\n",
    "## You can call a list item by index using brackets. Don't forget that in Python, counting starts at 0!\n",
    "#print l[0]\n",
    "## Lists are mutable (you can change them). Add an item to the list:\n",
    "#l.append('strawberries')\n",
    "#print l\n",
    "## You can also replace an item using the index\n",
    "#l[0] = 'grapes'\n",
    "#print l\n",
    "## Remove an item by index\n",
    "#l.pop(1)\n",
    "#print l\n",
    "\n",
    "\n",
    "## 2c. Dictionaries - used for paired things, called key-value pairs\n",
    "## define a dictionary with brackets\n",
    "d = {'name': 'sam', 'age' : 32, 'occupation' : 'engineer'}\n",
    "## dictionaries are not indexed, and not ordered. Their items get called in random order.\n",
    "#print d\n",
    "## usually we find items in dictionary by key, though other methods exist\n",
    "#print d['name']\n",
    "## Dictionaries are mutable. We can add new key-value pairs, or change the values for existing keys\n",
    "#d['name'] = 'angela'\n",
    "#d['zip code'] = 94089\n",
    "#print d\n",
    "\n",
    "## 2d. Other common data structures in Python include sets and tuples. When you feel good about lists and \n",
    "## dictionaries, follow a similar process to see how sets and tuples work. You can read about them here:\n",
    "## http://www.thomas-cokelaer.info/tutorials/python/data_structures.html\n"
   ]
  },
  {
   "cell_type": "markdown",
   "metadata": {},
   "source": [
    "Part 3:  If statements\n",
    "If statments are used to check a condition (also called conditionals). You can check things like if two numbers are equal, how many items are in a list, or if a data type is what you expect (as we saw in Part 1). "
   ]
  },
  {
   "cell_type": "code",
   "execution_count": null,
   "metadata": {
    "collapsed": true
   },
   "outputs": [],
   "source": [
    "## 3a. Simple if statement\n",
    "#a = 5\n",
    "#b = 10\n",
    "#if a > b:\n",
    "#   print a\n",
    "\n",
    "    \n",
    "## 3b. Else statement\n",
    "#if a > b:\n",
    "#   print a\n",
    "#else: \n",
    "#   print b\n",
    "    \n",
    "## 3c. If else statment - you can have as many elif parts as you want!\n",
    "#if a == b:\n",
    "#   print 'equal'\n",
    "#elif a > b:\n",
    "#   print a\n",
    "#else:\n",
    "#   print b\n",
    "\n",
    "    \n",
    "## 3d. Experimentation: change the values of a and b, or the comparison statments to see what happens. \n",
    "## Try different data types, or different comparisons (!=, >=, len(a), etc.)\n"
   ]
  },
  {
   "cell_type": "markdown",
   "metadata": {},
   "source": [
    "Part 4: Loops\n",
    "Use a loop to do something many times. Loops are often used to go through a list, but they can be used in many other ways as well.\n"
   ]
  },
  {
   "cell_type": "code",
   "execution_count": 37,
   "metadata": {
    "collapsed": false
   },
   "outputs": [
    {
     "name": "stdout",
     "output_type": "stream",
     "text": [
      "[2, 3, 4, 5, 6]\n",
      "[2, 4, 4, 6, 6]\n",
      "2\n",
      "4\n",
      "4\n"
     ]
    }
   ],
   "source": [
    "## 4a. Loop through a list and add 1 to each item\n",
    "#my_list = [1, 2, 3, 4, 5]\n",
    "#for i in range(0, len(my_list)):\n",
    "#    my_list[i] += 1\n",
    "#print my_list\n",
    "\n",
    "## 4b. Use an if statment to make each item in the list even\n",
    "#for i in range(0, len(my_list)):\n",
    "#    if my_list[i] % 2 != 0: # the % operator (read \"modulo\") divides and returns the remainder\n",
    "#        my_list[i] += 1\n",
    "#print my_list\n",
    "\n",
    "## 4c. Run a loop a fixed number of times\n",
    "#counter = 0\n",
    "#while counter < 3:\n",
    "#    print my_list[counter]\n",
    "#    counter += 1"
   ]
  },
  {
   "cell_type": "markdown",
   "metadata": {},
   "source": [
    "Part 5: Functions\n",
    "There are lots of functions already written to save you work. But you can also write your own. Functions are nice when you are going to have to use a section of code more than once. They can also make it easier to find and fix mistakes."
   ]
  },
  {
   "cell_type": "code",
   "execution_count": 44,
   "metadata": {
    "collapsed": false
   },
   "outputs": [
    {
     "name": "stdout",
     "output_type": "stream",
     "text": [
      "8\n",
      "7\n",
      "64\n",
      "8\n",
      "8.0\n",
      "udacity\n"
     ]
    }
   ],
   "source": [
    "my_list = [1, 3, 5, 7, 9, 11, 13, 15]\n",
    "my_string = 'Udacity'\n",
    "another_string = 'Connect'\n",
    "\n",
    "## 5a. built in functions\n",
    "## the len() function tells you how long a string or list is\n",
    "#print len(my_list)\n",
    "#print len(my_string)\n",
    "## the sum function adds up all the items in a list\n",
    "#print sum(my_list)\n",
    "## you can combine functions to get what you want - the average!\n",
    "#print sum(my_list)/len(my_list)\n",
    "## or just call a library that has the function you want\n",
    "#import numpy as np\n",
    "#print np.mean(my_list)\n",
    "\n",
    "## 5b. write your own function\n",
    "## let's say you need to clean up some data and you want to make sure all your data is lower case\n",
    "#def make_lower(data):\n",
    "#    if type(data) == str:\n",
    "#        return data.lower()\n",
    "    \n",
    "## now call your special function for your different strings\n",
    "#print make_lower(my_string)\n",
    "\n",
    "## 5c. Challenge: write a function that removes any item not divisible by 3 from a list \n",
    "        \n"
   ]
  }
 ],
 "metadata": {
  "kernelspec": {
   "display_name": "Python [default]",
   "language": "python",
   "name": "python2"
  },
  "language_info": {
   "codemirror_mode": {
    "name": "ipython",
    "version": 2
   },
   "file_extension": ".py",
   "mimetype": "text/x-python",
   "name": "python",
   "nbconvert_exporter": "python",
   "pygments_lexer": "ipython2",
   "version": "2.7.12"
  }
 },
 "nbformat": 4,
 "nbformat_minor": 1
}
