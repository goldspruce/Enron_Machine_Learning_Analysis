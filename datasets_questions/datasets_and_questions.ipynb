{
 "cells": [
  {
   "cell_type": "markdown",
   "metadata": {},
   "source": [
    "# Lesson 6: Datasets and Questions\n",
    "[Udacity Classroom Link](https://classroom.udacity.com/nanodegrees/nd002/parts/0021345409/modules/317428862475460/lessons/2291728537/concepts/30048087170923)"
   ]
  },
  {
   "cell_type": "code",
   "execution_count": 1,
   "metadata": {
    "collapsed": true
   },
   "outputs": [],
   "source": [
    "#!/usr/bin/python\n",
    "\n",
    "\"\"\" \n",
    "    Starter code for exploring the Enron dataset (emails + finances);\n",
    "    loads up the dataset (pickled dict of dicts).\n",
    "\n",
    "    The dataset has the form:\n",
    "    enron_data[\"LASTNAME FIRSTNAME MIDDLEINITIAL\"] = { features_dict }\n",
    "\n",
    "    {features_dict} is a dictionary of features associated with that person.\n",
    "    You should explore features_dict as part of the mini-project,\n",
    "    but here's an example to get you started:\n",
    "\n",
    "    enron_data[\"SKILLING JEFFREY K\"][\"bonus\"] = 5600000\n",
    "    \n",
    "\"\"\"\n",
    "\n",
    "import pickle\n",
    "\n",
    "enron_data = pickle.load(open(\"../final_project/final_project_dataset.pkl\", \"r\"))\n",
    "\n"
   ]
  },
  {
   "cell_type": "markdown",
   "metadata": {},
   "source": [
    "### [13. Quiz: Size of the Enron Dataset](https://classroom.udacity.com/nanodegrees/nd002/parts/0021345409/modules/317428862475460/lessons/2291728537/concepts/30048087170923)\n",
    "\n",
    "The aggregated Enron email + financial dataset is stored in a dictionary, where each key in the dictionary is a person’s name and the value is a dictionary containing all the features of that person.\n",
    "The email + finance (E+F) data dictionary is stored as a pickle file, which is a handy way to store and load python objects directly. Use datasets_questions/explore_enron_data.py to load the dataset.\n",
    "\n",
    "How many data points (people) are in the dataset?"
   ]
  },
  {
   "cell_type": "code",
   "execution_count": 2,
   "metadata": {
    "collapsed": false
   },
   "outputs": [
    {
     "data": {
      "text/plain": [
       "146"
      ]
     },
     "execution_count": 2,
     "metadata": {},
     "output_type": "execute_result"
    }
   ],
   "source": [
    "len(enron_data)"
   ]
  },
  {
   "cell_type": "markdown",
   "metadata": {},
   "source": [
    "### [14. Quiz: How many features in the Enron Dataset?](https://classroom.udacity.com/nanodegrees/nd002/parts/0021345409/modules/317428862475460/lessons/2291728537/concepts/30354985660923)\n",
    "\n",
    "For each person, how many features are available?"
   ]
  },
  {
   "cell_type": "code",
   "execution_count": 4,
   "metadata": {
    "collapsed": false
   },
   "outputs": [
    {
     "name": "stdout",
     "output_type": "stream",
     "text": [
      "METTS MARK 21\n",
      "BAXTER JOHN C 21\n",
      "ELLIOTT STEVEN 21\n",
      "CORDES WILLIAM R 21\n",
      "HANNON KEVIN P 21\n",
      "MORDAUNT KRISTINA M 21\n",
      "MEYER ROCKFORD G 21\n",
      "MCMAHON JEFFREY 21\n",
      "HORTON STANLEY C 21\n",
      "PIPER GREGORY F 21\n",
      "HUMPHREY GENE E 21\n",
      "UMANOFF ADAM S 21\n",
      "BLACHMAN JEREMY M 21\n",
      "SUNDE MARTIN 21\n",
      "GIBBS DANA R 21\n",
      "LOWRY CHARLES P 21\n",
      "COLWELL WESLEY 21\n",
      "MULLER MARK S 21\n",
      "JACKSON CHARLENE R 21\n",
      "WESTFAHL RICHARD K 21\n",
      "WALTERS GARETH W 21\n",
      "WALLS JR ROBERT H 21\n",
      "KITCHEN LOUISE 21\n",
      "CHAN RONNIE 21\n",
      "BELFER ROBERT 21\n",
      "SHANKMAN JEFFREY A 21\n",
      "WODRASKA JOHN 21\n",
      "BERGSIEKER RICHARD P 21\n",
      "URQUHART JOHN A 21\n",
      "BIBI PHILIPPE A 21\n",
      "RIEKER PAULA H 21\n",
      "WHALEY DAVID A 21\n",
      "BECK SALLY W 21\n",
      "HAUG DAVID L 21\n",
      "ECHOLS JOHN B 21\n",
      "MENDELSOHN JOHN 21\n",
      "HICKERSON GARY J 21\n",
      "CLINE KENNETH W 21\n",
      "LEWIS RICHARD 21\n",
      "HAYES ROBERT E 21\n",
      "MCCARTY DANNY J 21\n",
      "KOPPER MICHAEL J 21\n",
      "LEFF DANIEL P 21\n",
      "LAVORATO JOHN J 21\n",
      "BERBERIAN DAVID 21\n",
      "DETMERING TIMOTHY J 21\n",
      "WAKEHAM JOHN 21\n",
      "POWERS WILLIAM 21\n",
      "GOLD JOSEPH 21\n",
      "BANNANTINE JAMES M 21\n",
      "DUNCAN JOHN H 21\n",
      "SHAPIRO RICHARD S 21\n",
      "SHERRIFF JOHN R 21\n",
      "SHELBY REX 21\n",
      "LEMAISTRE CHARLES 21\n",
      "DEFFNER JOSEPH M 21\n",
      "KISHKILL JOSEPH G 21\n",
      "WHALLEY LAWRENCE G 21\n",
      "MCCONNELL MICHAEL S 21\n",
      "PIRO JIM 21\n",
      "DELAINEY DAVID W 21\n",
      "SULLIVAN-SHAKLOVITZ COLLEEN 21\n",
      "WROBEL BRUCE 21\n",
      "LINDHOLM TOD A 21\n",
      "MEYER JEROME J 21\n",
      "LAY KENNETH L 21\n",
      "BUTTS ROBERT H 21\n",
      "OLSON CINDY K 21\n",
      "MCDONALD REBECCA 21\n",
      "CUMBERLAND MICHAEL S 21\n",
      "GAHN ROBERT S 21\n",
      "MCCLELLAN GEORGE 21\n",
      "HERMANN ROBERT J 21\n",
      "SCRIMSHAW MATTHEW 21\n",
      "GATHMANN WILLIAM D 21\n",
      "HAEDICKE MARK E 21\n",
      "BOWEN JR RAYMOND M 21\n",
      "GILLIS JOHN 21\n",
      "FITZGERALD JAY L 21\n",
      "MORAN MICHAEL P 21\n",
      "REDMOND BRIAN L 21\n",
      "BAZELIDES PHILIP J 21\n",
      "BELDEN TIMOTHY N 21\n",
      "DURAN WILLIAM D 21\n",
      "THORN TERENCE H 21\n",
      "FASTOW ANDREW S 21\n",
      "FOY JOE 21\n",
      "CALGER CHRISTOPHER F 21\n",
      "RICE KENNETH D 21\n",
      "KAMINSKI WINCENTY J 21\n",
      "LOCKHART EUGENE E 21\n",
      "COX DAVID 21\n",
      "OVERDYKE JR JERE C 21\n",
      "PEREIRA PAULO V. FERRAZ 21\n",
      "STABLER FRANK 21\n",
      "SKILLING JEFFREY K 21\n",
      "BLAKE JR. NORMAN P 21\n",
      "SHERRICK JEFFREY B 21\n",
      "PRENTICE JAMES 21\n",
      "GRAY RODNEY 21\n",
      "PICKERING MARK R 21\n",
      "THE TRAVEL AGENCY IN THE PARK 21\n",
      "NOLES JAMES L 21\n",
      "KEAN STEVEN J 21\n",
      "TOTAL 21\n",
      "FOWLER PEGGY 21\n",
      "WASAFF GEORGE 21\n",
      "WHITE JR THOMAS E 21\n",
      "CHRISTODOULOU DIOMEDES 21\n",
      "ALLEN PHILLIP K 21\n",
      "SHARP VICTORIA T 21\n",
      "JAEDICKE ROBERT 21\n",
      "WINOKUR JR. HERBERT S 21\n",
      "BROWN MICHAEL 21\n",
      "BADUM JAMES P 21\n",
      "HUGHES JAMES A 21\n",
      "REYNOLDS LAWRENCE 21\n",
      "DIMICHELE RICHARD G 21\n",
      "BHATNAGAR SANJAY 21\n",
      "CARTER REBECCA C 21\n",
      "BUCHANAN HAROLD G 21\n",
      "YEAP SOON 21\n",
      "MURRAY JULIA H 21\n",
      "GARLAND C KEVIN 21\n",
      "DODSON KEITH 21\n",
      "YEAGER F SCOTT 21\n",
      "HIRKO JOSEPH 21\n",
      "DIETRICH JANET R 21\n",
      "DERRICK JR. JAMES V 21\n",
      "FREVERT MARK A 21\n",
      "PAI LOU L 21\n",
      "BAY FRANKLIN R 21\n",
      "HAYSLETT RODERICK J 21\n",
      "FUGH JOHN L 21\n",
      "FALLON JAMES B 21\n",
      "KOENIG MARK E 21\n",
      "SAVAGE FRANK 21\n",
      "IZZO LAWRENCE L 21\n",
      "TILNEY ELIZABETH A 21\n",
      "MARTIN AMANDA K 21\n",
      "BUY RICHARD B 21\n",
      "GRAMM WENDY L 21\n",
      "CAUSEY RICHARD A 21\n",
      "TAYLOR MITCHELL S 21\n",
      "DONAHUE JR JEFFREY M 21\n",
      "GLISAN JR BEN F 21\n"
     ]
    }
   ],
   "source": [
    "for key,value in enron_data.iteritems():\n",
    "    print key, len(value)"
   ]
  },
  {
   "cell_type": "markdown",
   "metadata": {},
   "source": [
    "### [15. Quiz: Finding POIs in the Enron Dataset](https://classroom.udacity.com/nanodegrees/nd002/parts/0021345409/modules/317428862475460/lessons/2291728537/concepts/30218585580923)\n",
    "\n",
    "The “poi” feature records whether the person is a person of interest, according to our definition. How many POIs are there in the E+F dataset?"
   ]
  },
  {
   "cell_type": "code",
   "execution_count": 7,
   "metadata": {
    "collapsed": false
   },
   "outputs": [
    {
     "name": "stdout",
     "output_type": "stream",
     "text": [
      "18\n"
     ]
    }
   ],
   "source": [
    "c=0\n",
    "for key,value in enron_data.iteritems():\n",
    "    if value['poi']: # == 1 or # == True also work\n",
    "        c+=1\n",
    "print c"
   ]
  },
  {
   "cell_type": "markdown",
   "metadata": {},
   "source": [
    "### [16. Quiz: How many POIs Exist?](https://classroom.udacity.com/nanodegrees/nd002/parts/0021345409/modules/317428862475460/lessons/2291728537/concepts/30350185570923) \n",
    "\n",
    "We compiled a list of all POI names (in ../final_project/poi_names.txt) and associated email addresses (in ../final_project/poi_email_addresses.py).\n",
    "\n",
    "How many POI’s were there total? (Use the names file, not the email addresses, since many folks have more than one address and a few didn’t work for Enron, so we don’t have their emails.)\n"
   ]
  },
  {
   "cell_type": "code",
   "execution_count": 13,
   "metadata": {
    "collapsed": false
   },
   "outputs": [
    {
     "name": "stdout",
     "output_type": "stream",
     "text": [
      "35\n"
     ]
    }
   ],
   "source": [
    "import csv\n",
    "filename = '../final_project/poi_names.txt'\n",
    "\n",
    "#with open (filename,'rb') as f:\n",
    " #   reader = csv.reader(filename)\n",
    "  #  for line in reader:\n",
    "   #     print line\n",
    "\n",
    "c=0\n",
    "with open (filename,'rb') as f:\n",
    "    reader = f.readlines()\n",
    "    #print reader\n",
    "    for line in reader:\n",
    "        #print line\n",
    "        if line[0] == '(':\n",
    "            c+=1\n",
    "print c"
   ]
  },
  {
   "cell_type": "markdown",
   "metadata": {},
   "source": [
    "### 17. [Quiz: Problems with incomplete data](https://classroom.udacity.com/nanodegrees/nd002/parts/0021345409/modules/317428862475460/lessons/2291728537/concepts/30100186330923)\n",
    "\n",
    "As you can see, we have many of the POIs in our E+F dataset, but not all of them. Why is that a potential problem?\n",
    "\n",
    "We will return to this later to explain how a POI could end up not being in the Enron E+F dataset, so you fully understand the issue before moving on.\n",
    "\n",
    "#### Response:\n",
    "\n",
    "\n",
    "\n"
   ]
  },
  {
   "cell_type": "markdown",
   "metadata": {},
   "source": [
    "### [18. Quiz: Query the dataset 1](https://classroom.udacity.com/nanodegrees/nd002/parts/0021345409/modules/317428862475460/lessons/2291728537/concepts/30258285840923)\n",
    "\n",
    "Like any dict of dicts, individual people/features can be accessed like so:\n",
    "\n",
    "enron_data[\"LASTNAME FIRSTNAME\"][\"feature_name\"]\n",
    "or, sometimes \n",
    "enron_data[\"LASTNAME FIRSTNAME MIDDLEINITIAL\"][\"feature_name\"]\n",
    "\n",
    "What is the total value of the stock belonging to James Prentice?"
   ]
  },
  {
   "cell_type": "code",
   "execution_count": 24,
   "metadata": {
    "collapsed": false
   },
   "outputs": [
    {
     "name": "stdout",
     "output_type": "stream",
     "text": [
      "1095040\n"
     ]
    }
   ],
   "source": [
    "#print enron_data['PRENTICE JAMES']['total_stock_value']\n",
    "for person in enron_data:\n",
    "    if person.find('PRENTICE')!=-1:\n",
    "        #print person.find('PRENTICE')\n",
    "        print enron_data[person]['total_stock_value']"
   ]
  },
  {
   "cell_type": "markdown",
   "metadata": {},
   "source": [
    "### [18. Quiz: Query the dataset 2](https://classroom.udacity.com/nanodegrees/nd002/parts/0021345409/modules/317428862475460/lessons/2291728537/concepts/30180785500923)\n",
    "\n",
    "Like any dict of dicts, individual people/features can be accessed like so:\n",
    "\n",
    "enron_data[\"LASTNAME FIRSTNAME\"][\"feature_name\"]\n",
    "\n",
    "How many email messages do we have from Wesley Colwell to persons of interest?"
   ]
  },
  {
   "cell_type": "code",
   "execution_count": 36,
   "metadata": {
    "collapsed": false
   },
   "outputs": [
    {
     "name": "stdout",
     "output_type": "stream",
     "text": [
      "11\n"
     ]
    }
   ],
   "source": [
    "for person in enron_data:\n",
    "    if person.find('COLWELL')!=-1:\n",
    "        #print person.find('PRENTICE')\n",
    "        print enron_data[person]['from_this_person_to_poi']"
   ]
  },
  {
   "cell_type": "markdown",
   "metadata": {},
   "source": [
    "### [18. Quiz: Query the dataset 3](https://classroom.udacity.com/nanodegrees/nd002/parts/0021345409/modules/317428862475460/lessons/2291728537/concepts/30133087020923)\n",
    "\n",
    "Like any dict of dicts, individual people/features can be accessed like so:\n",
    "\n",
    "enron_data[\"LASTNAME FIRSTNAME\"][\"feature_name\"]\n",
    "\n",
    "or\n",
    "\n",
    "enron_data[\"LASTNAME FIRSTNAME MIDDLEINITIAL\"][\"feature_name\"]\n",
    "\n",
    "What’s the value of stock options exercised by Jeffrey K Skilling?"
   ]
  },
  {
   "cell_type": "code",
   "execution_count": 39,
   "metadata": {
    "collapsed": false
   },
   "outputs": [
    {
     "name": "stdout",
     "output_type": "stream",
     "text": [
      "19250000\n"
     ]
    }
   ],
   "source": [
    "for person in enron_data:\n",
    "    if person.find('SKILLING')!=-1:\n",
    "        #print person.find('PRENTICE')\n",
    "        for field in enron_data[person]:\n",
    "            if field.find('exercised')!=-1:\n",
    "                print enron_data[person][field]\n",
    "        "
   ]
  },
  {
   "cell_type": "markdown",
   "metadata": {},
   "source": [
    "### [21. Quiz: Research the Enron Fraud](https://classroom.udacity.com/nanodegrees/nd002/parts/0021345409/modules/317428862475460/lessons/2291728537/concepts/30268386050923)\n",
    "\n",
    "In the coming lessons, we’ll talk about how the best features are often motivated by our human understanding of the problem at hand. In this case, that means knowing a little about the story of the Enron fraud.\n",
    "\n",
    "If you have an hour and a half to spare, “Enron: The Smartest Guys in the Room” is a documentary that gives an amazing overview of the story. Alternatively, there are plenty of archival newspaper stories that chronicle the rise and fall of Enron.\n",
    "\n",
    "Which of these schemes was Enron not involved in?\n",
    "\n",
    "* selling assets to shell companies at the end of each month, and buying them back at the beginning of the next month to hide accounting losses  \n",
    "* causing electrical grid failures in California  \n",
    "* illegally obtained a government report that enabled them to corner the market on frozen concentrated orange juice futures  \n",
    "* conspiring to give a Saudi prince expedited American citizenship  \n",
    "* a plan in collaboration with Blockbuster movies to stream movies over the internet "
   ]
  },
  {
   "cell_type": "markdown",
   "metadata": {},
   "source": [
    "### [22. Quiz: Enron CEO](https://classroom.udacity.com/nanodegrees/nd002/parts/0021345409/modules/317428862475460/lessons/2291728537/concepts/30104485960923)\n",
    "\n",
    "Who was the CEO of Enron during most of the time that fraud was being perpetrated?"
   ]
  },
  {
   "cell_type": "markdown",
   "metadata": {},
   "source": [
    "### [23. Quiz: Enron Chairman](https://classroom.udacity.com/nanodegrees/nd002/parts/0021345409/modules/317428862475460/lessons/2291728537/concepts/30022585710923)\n",
    "\n",
    "Who was chairman of the Enron board of directors?"
   ]
  },
  {
   "cell_type": "markdown",
   "metadata": {},
   "source": [
    "### [24. Quiz: Enron CFO](https://classroom.udacity.com/nanodegrees/nd002/parts/0021345409/modules/317428862475460/lessons/2291728537/concepts/30134585660923)\n",
    "\n",
    "Who was CFO (chief financial officer) of Enron during most of the time that fraud was going on?"
   ]
  },
  {
   "cell_type": "markdown",
   "metadata": {},
   "source": [
    "### [25. Quiz: Follow the money](https://classroom.udacity.com/nanodegrees/nd002/parts/0021345409/modules/317428862475460/lessons/2291728537/concepts/30175386090923)\n",
    "\n",
    "Of these three individuals (Lay, Skilling and Fastow), who took home the most money (largest value of “total_payments” feature)?\n",
    "\n",
    "How much money did that person get?"
   ]
  },
  {
   "cell_type": "code",
   "execution_count": null,
   "metadata": {
    "collapsed": false
   },
   "outputs": [],
   "source": []
  },
  {
   "cell_type": "markdown",
   "metadata": {},
   "source": [
    "### [26. Quiz: Unfilled features](https://classroom.udacity.com/nanodegrees/nd002/parts/0021345409/modules/317428862475460/lessons/2291728537/concepts/30154585500923)\n",
    "\n",
    "For nearly every person in the dataset, not every feature has a value. How is it denoted when a feature doesn’t have a well-defined value?"
   ]
  },
  {
   "cell_type": "code",
   "execution_count": null,
   "metadata": {
    "collapsed": false
   },
   "outputs": [],
   "source": []
  },
  {
   "cell_type": "markdown",
   "metadata": {},
   "source": [
    "### [27. Quiz: Dealing with Unfilled Features](https://classroom.udacity.com/nanodegrees/nd002/parts/0021345409/modules/317428862475460/lessons/2291728537/concepts/30030986550923)\n",
    "\n",
    "How many folks in this dataset have a quantified salary? What about a known email address?"
   ]
  },
  {
   "cell_type": "code",
   "execution_count": null,
   "metadata": {
    "collapsed": false
   },
   "outputs": [],
   "source": []
  },
  {
   "cell_type": "markdown",
   "metadata": {},
   "source": [
    "### [28. Dict-to-array conversion](https://classroom.udacity.com/nanodegrees/nd002/parts/0021345409/modules/317428862475460/lessons/2291728537/concepts/30256686920923)\n",
    "\n",
    "A python dictionary can’t be read directly into an sklearn classification or regression algorithm; instead, it needs a numpy array or a list of lists (each element of the list (itself a list) is a data point, and the elements of the smaller list are the features of that point).\n",
    "\n",
    "We’ve written some helper functions (featureFormat() and targetFeatureSplit() in tools/feature_format.py) that can take a list of feature names and the data dictionary, and return a numpy array.\n",
    "\n",
    "In the case when a feature does not have a value for a particular person, this function will also replace the feature value with 0 (zero)."
   ]
  },
  {
   "cell_type": "markdown",
   "metadata": {},
   "source": [
    "### [29. Quiz: Missing POIs 1](https://classroom.udacity.com/nanodegrees/nd002/parts/0021345409/modules/317428862475460/lessons/2291728537/concepts/30330886770923)\n",
    "\n",
    "As you saw a little while ago, not every POI has an entry in the dataset (e.g. Michael Krautz). That’s because the dataset was created using the financial data you can find in final_project/enron61702insiderpay.pdf, which is missing some POI’s (those absences propagated through to the final dataset). On the other hand, for many of these “missing” POI’s, we do have emails.\n",
    "\n",
    "While it would be straightforward to add these POI’s and their email information to the E+F dataset, and just put “NaN” for their financial information, this could introduce a subtle problem. You will walk through that here.\n",
    "\n",
    "How many people in the E+F dataset (as it currently exists) have “NaN” for their total payments? What percentage of people in the dataset as a whole is this?"
   ]
  },
  {
   "cell_type": "code",
   "execution_count": null,
   "metadata": {
    "collapsed": false
   },
   "outputs": [],
   "source": []
  },
  {
   "cell_type": "markdown",
   "metadata": {},
   "source": [
    "### [30. Quiz: Missing POIs 2](https://classroom.udacity.com/nanodegrees/nd002/parts/0021345409/modules/317428862475460/lessons/2291728537/concepts/30051386790923)\n",
    "\n",
    "How many POIs in the E+F dataset have “NaN” for their total payments? What percentage of POI’s as a whole is this?"
   ]
  },
  {
   "cell_type": "code",
   "execution_count": null,
   "metadata": {
    "collapsed": false
   },
   "outputs": [],
   "source": []
  },
  {
   "cell_type": "markdown",
   "metadata": {},
   "source": [
    "### [31. Quiz: Missing POIs 3](https://classroom.udacity.com/nanodegrees/nd002/parts/0021345409/modules/317428862475460/lessons/2291728537/concepts/30281987290923)\n",
    "\n",
    "If a machine learning algorithm were to use total_payments as a feature, would you expect it to associate a “NaN” value with POIs or non-POIs?"
   ]
  },
  {
   "cell_type": "markdown",
   "metadata": {},
   "source": [
    "### [32. Quiz: Missing POIs 4](https://classroom.udacity.com/nanodegrees/nd002/parts/0021345409/modules/317428862475460/lessons/2291728537/concepts/30058886150923)\n",
    "\n",
    "If you added in, say, 10 more data points which were all POI’s, and put “NaN” for the total payments for those folks, the numbers you just calculated would change.\n",
    "What is the new number of people of the dataset? What is the new number of folks with “NaN” for total payments?"
   ]
  },
  {
   "cell_type": "markdown",
   "metadata": {},
   "source": [
    "### [33. Quiz: Missing POIs 5](https://classroom.udacity.com/nanodegrees/nd002/parts/0021345409/modules/317428862475460/lessons/2291728537/concepts/30524685360923)\n",
    "\n",
    "What is the new number of POI’s in the dataset? What is the new number of POI’s with NaN for total_payments?"
   ]
  },
  {
   "cell_type": "markdown",
   "metadata": {},
   "source": [
    "### [34. Quiz: Missing POIs 6](https://classroom.udacity.com/nanodegrees/nd002/parts/0021345409/modules/317428862475460/lessons/2291728537/concepts/30249785960923)\n",
    "\n",
    "Once the new data points are added, do you think a supervised classification algorithm might interpret “NaN” for total_payments as a clue that someone is a POI?"
   ]
  },
  {
   "cell_type": "markdown",
   "metadata": {},
   "source": [
    "### [35. Mixing Data Sources](https://classroom.udacity.com/nanodegrees/nd002/parts/0021345409/modules/317428862475460/lessons/2291728537/concepts/30494785600923)\n",
    "\n",
    "Adding in the new POI’s in this example, none of whom we have financial information for, has introduced a subtle problem, that our lack of financial information about them can be picked up by an algorithm as a clue that they’re POIs. Another way to think about this is that there’s now a difference in how we generated the data for our two classes--non-POIs all come from the financial spreadsheet, while many POIs get added in by hand afterwards. That difference can trick us into thinking we have better performance than we do--suppose you use your POI detector to decide whether a new, unseen person is a POI, and that person isn’t on the spreadsheet. Then all their financial data would contain “NaN” but the person is very likely not a POI (there are many more non-POIs than POIs in the world, and even at Enron)--you’d be likely to accidentally identify them as a POI, though!\n",
    "\n",
    "This goes to say that, when generating or augmenting a dataset, you should be exceptionally careful if your data are coming from different sources for different classes. It can easily lead to the type of bias or mistake that we showed here. There are ways to deal with this, for example, you wouldn’t have to worry about this problem if you used only email data--in that case, discrepancies in the financial data wouldn’t matter because financial features aren’t being used. There are also more sophisticated ways of estimating how much of an effect these biases can have on your final answer; those are beyond the scope of this course.\n",
    "\n",
    "For now, the takeaway message is to be very careful about introducing features that come from different sources depending on the class! It’s a classic way to accidentally introduce biases and mistakes."
   ]
  }
 ],
 "metadata": {
  "anaconda-cloud": {},
  "kernelspec": {
   "display_name": "Python [ipykernel_py2]",
   "language": "python",
   "name": "Python [ipykernel_py2]"
  },
  "language_info": {
   "codemirror_mode": {
    "name": "ipython",
    "version": 2
   },
   "file_extension": ".py",
   "mimetype": "text/x-python",
   "name": "python",
   "nbconvert_exporter": "python",
   "pygments_lexer": "ipython2",
   "version": "2.7.13"
  }
 },
 "nbformat": 4,
 "nbformat_minor": 2
}
